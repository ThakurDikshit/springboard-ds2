{
 "cells": [
  {
   "cell_type": "code",
   "execution_count": 2,
   "metadata": {
    "collapsed": false
   },
   "outputs": [],
   "source": [
    "import math\n",
    "import pandas as pd\n",
    "import numpy as np\n",
    "import scipy\n",
    "import matplotlib.pyplot as plt\n",
    "import matplotlib.cm as cm\n",
    "import seaborn as sns\n",
    "from sklearn.cross_validation import train_test_split\n",
    "from sklearn.ensemble import RandomForestClassifier\n",
    "# from sklearn.neural_network import MLPClassifier\n",
    "%matplotlib inline"
   ]
  },
  {
   "cell_type": "code",
   "execution_count": 3,
   "metadata": {
    "collapsed": false
   },
   "outputs": [],
   "source": [
    "df_train = pd.read_csv('../Kaggle_Datasets/Facebook/train.csv')\n",
    "df_test = pd.read_csv('../Kaggle_Datasets/Facebook/test.csv')"
   ]
  },
  {
   "cell_type": "code",
   "execution_count": 4,
   "metadata": {
    "collapsed": false
   },
   "outputs": [],
   "source": [
    "mini_df = df_train[(df_train.x > 1.0) & (df_train.x < 1.5) & (df_train.y > 2.0) & (df_train.y < 2.25)]"
   ]
  },
  {
   "cell_type": "code",
   "execution_count": 5,
   "metadata": {
    "collapsed": true
   },
   "outputs": [],
   "source": [
    "def apply_accu_class(x):\n",
    "    rise_ranges = ((50, 90), (130, 160), (220, 310), (380, 600))\n",
    "    fall_ranges = ((0, 40), (110, 120), (190, 210), (320, 370), )\n",
    "    peak_ranges = ((90, 110), (160, 190), (310, 320), )\n",
    "    trough_ranges = ((40, 50), (120, 130), (210, 220), (370, 380))\n",
    "    class_dict = {rise_ranges: 1, fall_ranges: -1, peak_ranges: 2, trough_ranges: -2}\n",
    "    for rang in [rise_ranges, fall_ranges, peak_ranges, trough_ranges]:\n",
    "        for a, b in rang:\n",
    "            if a <= x < b:\n",
    "                return class_dict[rang]"
   ]
  },
  {
   "cell_type": "code",
   "execution_count": 6,
   "metadata": {
    "collapsed": false
   },
   "outputs": [],
   "source": [
    "def mod_df(mini_df):\n",
    "    mini_df.loc[:, 'hour'] = mini_df.time // 60 % 24 + 1\n",
    "    mini_df.loc[:, 'day'] = mini_df.time // (60*24) % 7 + 1\n",
    "    mini_df.loc[:, 'week'] = mini_df.time // (60*24*7) % 52 + 1\n",
    "    mini_df.loc[:, 'month'] = mini_df.time // (60*24*30) % 12 + 1\n",
    "    mini_df.loc[:, 'year'] = mini_df.time // (60*24*365) + 1\n",
    "\n",
    "    mini_df.loc[:, 'hours'] = mini_df.time // 60 + 1\n",
    "    mini_df.loc[:, 'days'] = mini_df.time // (60*24) + 1\n",
    "    mini_df.loc[:, 'weeks'] = mini_df.time // (60*24*7) + 1\n",
    "    mini_df.loc[:, 'months'] = mini_df.time // (60*24*30) + 1\n",
    "    mini_df.loc[:, 'years'] = mini_df.time // (60*24*365) + 1\n",
    "    \n",
    "    mini_df.loc[:, 'hour_float'] = mini_df.time / 60 % 24 + 1\n",
    "    mini_df.loc[:, 'day_float'] = mini_df.time / (60*24) % 7 + 1\n",
    "    mini_df.loc[:, 'week_float'] = mini_df.time / (60*24*7) % 52 + 1\n",
    "    mini_df.loc[:, 'month_float'] = mini_df.time / (60*24*30) % 12 + 1\n",
    "    mini_df.loc[:, 'year_float'] = mini_df.time / (60*24*365) + 1\n",
    "\n",
    "    mini_df.loc[:, 'accu_class'] = mini_df.days.apply(apply_accu_class)\n",
    "    mini_df.loc[:, 'log2_accuracy'] = np.log2(mini_df.accuracy) * 10\n",
    "    mini_df.loc[:, 'log10_accuracy'] = np.log10(mini_df.accuracy) * 10\n",
    "    mini_df.loc[:, 'log2_accuracy_int'] = (np.log2(mini_df.accuracy) * 10).astype(int)\n",
    "    mini_df.loc[:, 'log10_accuracy_int'] = (np.log10(mini_df.accuracy) * 10).astype(int)\n",
    "    \n",
    "    return mini_df"
   ]
  },
  {
   "cell_type": "code",
   "execution_count": 7,
   "metadata": {
    "collapsed": false
   },
   "outputs": [
    {
     "name": "stderr",
     "output_type": "stream",
     "text": [
      "/Users/rtindru/anaconda/lib/python2.7/site-packages/pandas/core/indexing.py:284: SettingWithCopyWarning: \n",
      "A value is trying to be set on a copy of a slice from a DataFrame.\n",
      "Try using .loc[row_indexer,col_indexer] = value instead\n",
      "\n",
      "See the caveats in the documentation: http://pandas.pydata.org/pandas-docs/stable/indexing.html#indexing-view-versus-copy\n",
      "  self.obj[key] = _infer_fill_value(value)\n",
      "/Users/rtindru/anaconda/lib/python2.7/site-packages/pandas/core/indexing.py:461: SettingWithCopyWarning: \n",
      "A value is trying to be set on a copy of a slice from a DataFrame.\n",
      "Try using .loc[row_indexer,col_indexer] = value instead\n",
      "\n",
      "See the caveats in the documentation: http://pandas.pydata.org/pandas-docs/stable/indexing.html#indexing-view-versus-copy\n",
      "  self.obj[item] = s\n"
     ]
    },
    {
     "data": {
      "text/html": [
       "<div>\n",
       "<table border=\"1\" class=\"dataframe\">\n",
       "  <thead>\n",
       "    <tr style=\"text-align: right;\">\n",
       "      <th></th>\n",
       "      <th>row_id</th>\n",
       "      <th>x</th>\n",
       "      <th>y</th>\n",
       "      <th>accuracy</th>\n",
       "      <th>time</th>\n",
       "      <th>place_id</th>\n",
       "      <th>hour</th>\n",
       "      <th>day</th>\n",
       "      <th>week</th>\n",
       "      <th>month</th>\n",
       "      <th>...</th>\n",
       "      <th>hour_float</th>\n",
       "      <th>day_float</th>\n",
       "      <th>week_float</th>\n",
       "      <th>month_float</th>\n",
       "      <th>year_float</th>\n",
       "      <th>accu_class</th>\n",
       "      <th>log2_accuracy</th>\n",
       "      <th>log10_accuracy</th>\n",
       "      <th>log2_accuracy_int</th>\n",
       "      <th>log10_accuracy_int</th>\n",
       "    </tr>\n",
       "  </thead>\n",
       "  <tbody>\n",
       "    <tr>\n",
       "      <th>1420</th>\n",
       "      <td>1420</td>\n",
       "      <td>1.2804</td>\n",
       "      <td>2.2015</td>\n",
       "      <td>11</td>\n",
       "      <td>315689</td>\n",
       "      <td>7316184998</td>\n",
       "      <td>6</td>\n",
       "      <td>3</td>\n",
       "      <td>32</td>\n",
       "      <td>8</td>\n",
       "      <td>...</td>\n",
       "      <td>6.483333</td>\n",
       "      <td>3.228472</td>\n",
       "      <td>32.318353</td>\n",
       "      <td>8.307616</td>\n",
       "      <td>1.600626</td>\n",
       "      <td>1</td>\n",
       "      <td>34.594316</td>\n",
       "      <td>10.413927</td>\n",
       "      <td>34</td>\n",
       "      <td>10</td>\n",
       "    </tr>\n",
       "    <tr>\n",
       "      <th>1753</th>\n",
       "      <td>1753</td>\n",
       "      <td>1.2712</td>\n",
       "      <td>2.1926</td>\n",
       "      <td>56</td>\n",
       "      <td>470758</td>\n",
       "      <td>1110401599</td>\n",
       "      <td>22</td>\n",
       "      <td>5</td>\n",
       "      <td>47</td>\n",
       "      <td>11</td>\n",
       "      <td>...</td>\n",
       "      <td>22.966667</td>\n",
       "      <td>5.915278</td>\n",
       "      <td>47.702183</td>\n",
       "      <td>11.897176</td>\n",
       "      <td>1.895658</td>\n",
       "      <td>-1</td>\n",
       "      <td>58.073549</td>\n",
       "      <td>17.481880</td>\n",
       "      <td>58</td>\n",
       "      <td>17</td>\n",
       "    </tr>\n",
       "    <tr>\n",
       "      <th>2243</th>\n",
       "      <td>2243</td>\n",
       "      <td>1.3021</td>\n",
       "      <td>2.0379</td>\n",
       "      <td>66</td>\n",
       "      <td>366243</td>\n",
       "      <td>6235551797</td>\n",
       "      <td>9</td>\n",
       "      <td>3</td>\n",
       "      <td>37</td>\n",
       "      <td>9</td>\n",
       "      <td>...</td>\n",
       "      <td>9.050000</td>\n",
       "      <td>3.335417</td>\n",
       "      <td>37.333631</td>\n",
       "      <td>9.477847</td>\n",
       "      <td>1.696809</td>\n",
       "      <td>1</td>\n",
       "      <td>60.443941</td>\n",
       "      <td>18.195439</td>\n",
       "      <td>60</td>\n",
       "      <td>18</td>\n",
       "    </tr>\n",
       "    <tr>\n",
       "      <th>2254</th>\n",
       "      <td>2254</td>\n",
       "      <td>1.4721</td>\n",
       "      <td>2.1028</td>\n",
       "      <td>50</td>\n",
       "      <td>316873</td>\n",
       "      <td>7031210677</td>\n",
       "      <td>2</td>\n",
       "      <td>4</td>\n",
       "      <td>32</td>\n",
       "      <td>8</td>\n",
       "      <td>...</td>\n",
       "      <td>2.216667</td>\n",
       "      <td>4.050694</td>\n",
       "      <td>32.435813</td>\n",
       "      <td>8.335023</td>\n",
       "      <td>1.602879</td>\n",
       "      <td>1</td>\n",
       "      <td>56.438562</td>\n",
       "      <td>16.989700</td>\n",
       "      <td>56</td>\n",
       "      <td>16</td>\n",
       "    </tr>\n",
       "    <tr>\n",
       "      <th>2527</th>\n",
       "      <td>2527</td>\n",
       "      <td>1.3758</td>\n",
       "      <td>2.0215</td>\n",
       "      <td>73</td>\n",
       "      <td>216724</td>\n",
       "      <td>6696283507</td>\n",
       "      <td>13</td>\n",
       "      <td>4</td>\n",
       "      <td>22</td>\n",
       "      <td>6</td>\n",
       "      <td>...</td>\n",
       "      <td>13.066667</td>\n",
       "      <td>4.502778</td>\n",
       "      <td>22.500397</td>\n",
       "      <td>6.016759</td>\n",
       "      <td>1.412336</td>\n",
       "      <td>1</td>\n",
       "      <td>61.898246</td>\n",
       "      <td>18.633229</td>\n",
       "      <td>61</td>\n",
       "      <td>18</td>\n",
       "    </tr>\n",
       "  </tbody>\n",
       "</table>\n",
       "<p>5 rows × 26 columns</p>\n",
       "</div>"
      ],
      "text/plain": [
       "      row_id       x       y  accuracy    time    place_id  hour  day  week  \\\n",
       "1420    1420  1.2804  2.2015        11  315689  7316184998     6    3    32   \n",
       "1753    1753  1.2712  2.1926        56  470758  1110401599    22    5    47   \n",
       "2243    2243  1.3021  2.0379        66  366243  6235551797     9    3    37   \n",
       "2254    2254  1.4721  2.1028        50  316873  7031210677     2    4    32   \n",
       "2527    2527  1.3758  2.0215        73  216724  6696283507    13    4    22   \n",
       "\n",
       "      month         ...          hour_float  day_float  week_float  \\\n",
       "1420      8         ...            6.483333   3.228472   32.318353   \n",
       "1753     11         ...           22.966667   5.915278   47.702183   \n",
       "2243      9         ...            9.050000   3.335417   37.333631   \n",
       "2254      8         ...            2.216667   4.050694   32.435813   \n",
       "2527      6         ...           13.066667   4.502778   22.500397   \n",
       "\n",
       "      month_float  year_float  accu_class  log2_accuracy  log10_accuracy  \\\n",
       "1420     8.307616    1.600626           1      34.594316       10.413927   \n",
       "1753    11.897176    1.895658          -1      58.073549       17.481880   \n",
       "2243     9.477847    1.696809           1      60.443941       18.195439   \n",
       "2254     8.335023    1.602879           1      56.438562       16.989700   \n",
       "2527     6.016759    1.412336           1      61.898246       18.633229   \n",
       "\n",
       "      log2_accuracy_int  log10_accuracy_int  \n",
       "1420                 34                  10  \n",
       "1753                 58                  17  \n",
       "2243                 60                  18  \n",
       "2254                 56                  16  \n",
       "2527                 61                  18  \n",
       "\n",
       "[5 rows x 26 columns]"
      ]
     },
     "execution_count": 7,
     "metadata": {},
     "output_type": "execute_result"
    }
   ],
   "source": [
    "mini_df = mod_df(mini_df)\n",
    "mini_df.head()"
   ]
  },
  {
   "cell_type": "code",
   "execution_count": 8,
   "metadata": {
    "collapsed": false
   },
   "outputs": [
    {
     "data": {
      "text/plain": [
       "Index([u'row_id', u'x', u'y', u'accuracy', u'time', u'place_id', u'hour',\n",
       "       u'day', u'week', u'month', u'year', u'hours', u'days', u'weeks',\n",
       "       u'months', u'years', u'hour_float', u'day_float', u'week_float',\n",
       "       u'month_float', u'year_float', u'accu_class', u'log2_accuracy',\n",
       "       u'log10_accuracy', u'log2_accuracy_int', u'log10_accuracy_int'],\n",
       "      dtype='object')"
      ]
     },
     "execution_count": 8,
     "metadata": {},
     "output_type": "execute_result"
    }
   ],
   "source": [
    "mini_df.columns"
   ]
  },
  {
   "cell_type": "code",
   "execution_count": 9,
   "metadata": {
    "collapsed": false
   },
   "outputs": [
    {
     "data": {
      "text/plain": [
       "1215"
      ]
     },
     "execution_count": 9,
     "metadata": {},
     "output_type": "execute_result"
    }
   ],
   "source": [
    "len(mini_df.place_id.unique())"
   ]
  },
  {
   "cell_type": "code",
   "execution_count": 10,
   "metadata": {
    "collapsed": true
   },
   "outputs": [],
   "source": [
    "train, test = train_test_split(mini_df, random_state=88)"
   ]
  },
  {
   "cell_type": "code",
   "execution_count": 11,
   "metadata": {
    "collapsed": true
   },
   "outputs": [],
   "source": [
    "attributes = [u'x', u'y', u'accuracy', u'time', u'hour', u'day', u'week', u'month',\n",
    "       u'year', u'log2_accuracy', u'log10_accuracy',]"
   ]
  },
  {
   "cell_type": "code",
   "execution_count": 12,
   "metadata": {
    "collapsed": false
   },
   "outputs": [],
   "source": [
    "model = RandomForestClassifier(n_estimators=20, warm_start=True, random_state=3, n_jobs=-1)"
   ]
  },
  {
   "cell_type": "code",
   "execution_count": 13,
   "metadata": {
    "collapsed": false
   },
   "outputs": [
    {
     "data": {
      "text/plain": [
       "RandomForestClassifier(bootstrap=True, class_weight=None, criterion='gini',\n",
       "            max_depth=None, max_features='auto', max_leaf_nodes=None,\n",
       "            min_samples_leaf=1, min_samples_split=2,\n",
       "            min_weight_fraction_leaf=0.0, n_estimators=20, n_jobs=-1,\n",
       "            oob_score=False, random_state=3, verbose=0, warm_start=True)"
      ]
     },
     "execution_count": 13,
     "metadata": {},
     "output_type": "execute_result"
    }
   ],
   "source": [
    "model.fit(train.loc[:, attributes], train.place_id)"
   ]
  },
  {
   "cell_type": "code",
   "execution_count": 14,
   "metadata": {
    "collapsed": false
   },
   "outputs": [
    {
     "data": {
      "text/plain": [
       "0.53307538691962053"
      ]
     },
     "execution_count": 14,
     "metadata": {},
     "output_type": "execute_result"
    }
   ],
   "source": [
    "model.score(test.loc[:, attributes], test.place_id)"
   ]
  },
  {
   "cell_type": "code",
   "execution_count": 15,
   "metadata": {
    "collapsed": true
   },
   "outputs": [],
   "source": [
    "# Using hours, days... instead of hour, day...\n",
    "attributes_2 = [u'x', u'y', u'accuracy', u'time', u'hours', u'days', u'weeks', u'months',\n",
    "       u'year', u'log2_accuracy', u'log10_accuracy',]"
   ]
  },
  {
   "cell_type": "code",
   "execution_count": 16,
   "metadata": {
    "collapsed": false
   },
   "outputs": [],
   "source": [
    "model_2 = RandomForestClassifier(n_estimators=20, warm_start=True, random_state=3, n_jobs=-1)"
   ]
  },
  {
   "cell_type": "code",
   "execution_count": 17,
   "metadata": {
    "collapsed": false
   },
   "outputs": [
    {
     "data": {
      "text/plain": [
       "RandomForestClassifier(bootstrap=True, class_weight=None, criterion='gini',\n",
       "            max_depth=None, max_features='auto', max_leaf_nodes=None,\n",
       "            min_samples_leaf=1, min_samples_split=2,\n",
       "            min_weight_fraction_leaf=0.0, n_estimators=20, n_jobs=-1,\n",
       "            oob_score=False, random_state=3, verbose=0, warm_start=True)"
      ]
     },
     "execution_count": 17,
     "metadata": {},
     "output_type": "execute_result"
    }
   ],
   "source": [
    "model_2.fit(train.loc[:, attributes_2], train.place_id)"
   ]
  },
  {
   "cell_type": "code",
   "execution_count": 18,
   "metadata": {
    "collapsed": false
   },
   "outputs": [
    {
     "data": {
      "text/plain": [
       "0.43609585621567648"
      ]
     },
     "execution_count": 18,
     "metadata": {},
     "output_type": "execute_result"
    }
   ],
   "source": [
    "model_2.score(test.loc[:, attributes_2], test.place_id)"
   ]
  },
  {
   "cell_type": "code",
   "execution_count": 22,
   "metadata": {
    "collapsed": true
   },
   "outputs": [],
   "source": [
    "# Removing log2 and log10 accuracy\n",
    "attributes_3 = [u'x', u'y', u'time', u'hour', u'day', u'week', u'month',\n",
    "       u'year', u'accuracy',]"
   ]
  },
  {
   "cell_type": "code",
   "execution_count": 23,
   "metadata": {
    "collapsed": true
   },
   "outputs": [],
   "source": [
    "model_3 = RandomForestClassifier(n_estimators=20, warm_start=True, random_state=3, n_jobs=-1)"
   ]
  },
  {
   "cell_type": "code",
   "execution_count": 24,
   "metadata": {
    "collapsed": false
   },
   "outputs": [
    {
     "data": {
      "text/plain": [
       "RandomForestClassifier(bootstrap=True, class_weight=None, criterion='gini',\n",
       "            max_depth=None, max_features='auto', max_leaf_nodes=None,\n",
       "            min_samples_leaf=1, min_samples_split=2,\n",
       "            min_weight_fraction_leaf=0.0, n_estimators=20, n_jobs=-1,\n",
       "            oob_score=False, random_state=3, verbose=0, warm_start=True)"
      ]
     },
     "execution_count": 24,
     "metadata": {},
     "output_type": "execute_result"
    }
   ],
   "source": [
    "model_3.fit(train.loc[:, attributes_3], train.place_id)"
   ]
  },
  {
   "cell_type": "code",
   "execution_count": 25,
   "metadata": {
    "collapsed": false
   },
   "outputs": [
    {
     "data": {
      "text/plain": [
       "0.54418372441337992"
      ]
     },
     "execution_count": 25,
     "metadata": {},
     "output_type": "execute_result"
    }
   ],
   "source": [
    "model_3.score(test.loc[:, attributes_3], test.place_id)"
   ]
  },
  {
   "cell_type": "code",
   "execution_count": 26,
   "metadata": {
    "collapsed": true
   },
   "outputs": [],
   "source": [
    "# Using only log10 instead of accuracy\n",
    "attributes_4 = [u'x', u'y', u'time', u'hour', u'day', u'week', u'month',\n",
    "       u'year', u'log10_accuracy',]"
   ]
  },
  {
   "cell_type": "code",
   "execution_count": 27,
   "metadata": {
    "collapsed": false
   },
   "outputs": [],
   "source": [
    "model_4 = RandomForestClassifier(n_estimators=20, warm_start=True, random_state=3, n_jobs=-1)"
   ]
  },
  {
   "cell_type": "code",
   "execution_count": 28,
   "metadata": {
    "collapsed": false
   },
   "outputs": [
    {
     "data": {
      "text/plain": [
       "RandomForestClassifier(bootstrap=True, class_weight=None, criterion='gini',\n",
       "            max_depth=None, max_features='auto', max_leaf_nodes=None,\n",
       "            min_samples_leaf=1, min_samples_split=2,\n",
       "            min_weight_fraction_leaf=0.0, n_estimators=20, n_jobs=-1,\n",
       "            oob_score=False, random_state=3, verbose=0, warm_start=True)"
      ]
     },
     "execution_count": 28,
     "metadata": {},
     "output_type": "execute_result"
    }
   ],
   "source": [
    "model_4.fit(train.loc[:, attributes_4], train.place_id)"
   ]
  },
  {
   "cell_type": "code",
   "execution_count": 29,
   "metadata": {
    "collapsed": false
   },
   "outputs": [
    {
     "data": {
      "text/plain": [
       "0.54430853719420869"
      ]
     },
     "execution_count": 29,
     "metadata": {},
     "output_type": "execute_result"
    }
   ],
   "source": [
    "model_4.score(test.loc[:, attributes_4], test.place_id)"
   ]
  },
  {
   "cell_type": "code",
   "execution_count": 30,
   "metadata": {
    "collapsed": true
   },
   "outputs": [],
   "source": [
    "# Using only log2 instead of accuracy\n",
    "attributes_4a = [u'x', u'y', u'time', u'hour', u'day', u'week', u'month',\n",
    "       u'year', u'log2_accuracy',]"
   ]
  },
  {
   "cell_type": "code",
   "execution_count": 31,
   "metadata": {
    "collapsed": true
   },
   "outputs": [],
   "source": [
    "model_4a = RandomForestClassifier(n_estimators=20, warm_start=True, random_state=3, n_jobs=-1)"
   ]
  },
  {
   "cell_type": "code",
   "execution_count": 32,
   "metadata": {
    "collapsed": false
   },
   "outputs": [
    {
     "data": {
      "text/plain": [
       "RandomForestClassifier(bootstrap=True, class_weight=None, criterion='gini',\n",
       "            max_depth=None, max_features='auto', max_leaf_nodes=None,\n",
       "            min_samples_leaf=1, min_samples_split=2,\n",
       "            min_weight_fraction_leaf=0.0, n_estimators=20, n_jobs=-1,\n",
       "            oob_score=False, random_state=3, verbose=0, warm_start=True)"
      ]
     },
     "execution_count": 32,
     "metadata": {},
     "output_type": "execute_result"
    }
   ],
   "source": [
    "model_4a.fit(train.loc[:, attributes_4a], train.place_id)"
   ]
  },
  {
   "cell_type": "code",
   "execution_count": 33,
   "metadata": {
    "collapsed": false
   },
   "outputs": [
    {
     "data": {
      "text/plain": [
       "0.54430853719420869"
      ]
     },
     "execution_count": 33,
     "metadata": {},
     "output_type": "execute_result"
    }
   ],
   "source": [
    "model_4a.score(test.loc[:, attributes_4a], test.place_id)"
   ]
  },
  {
   "cell_type": "code",
   "execution_count": 34,
   "metadata": {
    "collapsed": true
   },
   "outputs": [],
   "source": [
    "# Removing time\n",
    "attributes_5 = [u'x', u'y', u'hour', u'day', u'week', u'month',\n",
    "       u'year', u'log10_accuracy',]"
   ]
  },
  {
   "cell_type": "code",
   "execution_count": 35,
   "metadata": {
    "collapsed": true
   },
   "outputs": [],
   "source": [
    "model_5 = RandomForestClassifier(n_estimators=20, warm_start=True, random_state=3, n_jobs=-1)"
   ]
  },
  {
   "cell_type": "code",
   "execution_count": 36,
   "metadata": {
    "collapsed": false
   },
   "outputs": [
    {
     "data": {
      "text/plain": [
       "RandomForestClassifier(bootstrap=True, class_weight=None, criterion='gini',\n",
       "            max_depth=None, max_features='auto', max_leaf_nodes=None,\n",
       "            min_samples_leaf=1, min_samples_split=2,\n",
       "            min_weight_fraction_leaf=0.0, n_estimators=20, n_jobs=-1,\n",
       "            oob_score=False, random_state=3, verbose=0, warm_start=True)"
      ]
     },
     "execution_count": 36,
     "metadata": {},
     "output_type": "execute_result"
    }
   ],
   "source": [
    "model_5.fit(train.loc[:, attributes_5], train.place_id)"
   ]
  },
  {
   "cell_type": "code",
   "execution_count": 37,
   "metadata": {
    "collapsed": false
   },
   "outputs": [
    {
     "data": {
      "text/plain": [
       "0.53132800798801794"
      ]
     },
     "execution_count": 37,
     "metadata": {},
     "output_type": "execute_result"
    }
   ],
   "source": [
    "model_5.score(test.loc[:, attributes_5], test.place_id)"
   ]
  },
  {
   "cell_type": "code",
   "execution_count": 28,
   "metadata": {
    "collapsed": true
   },
   "outputs": [],
   "source": [
    "# Using float day, week and month instead of rounded ints\n",
    "attributes_6 = [u'x', u'y', u'time', u'hour_float', u'day_float', u'week_float', u'month_float',\n",
    "       u'year_float', u'log2_accuracy',]"
   ]
  },
  {
   "cell_type": "code",
   "execution_count": 39,
   "metadata": {
    "collapsed": true
   },
   "outputs": [],
   "source": [
    "model_6 = RandomForestClassifier(n_estimators=20, warm_start=True, random_state=3, n_jobs=-1)"
   ]
  },
  {
   "cell_type": "code",
   "execution_count": 40,
   "metadata": {
    "collapsed": false
   },
   "outputs": [
    {
     "data": {
      "text/plain": [
       "RandomForestClassifier(bootstrap=True, class_weight=None, criterion='gini',\n",
       "            max_depth=None, max_features='auto', max_leaf_nodes=None,\n",
       "            min_samples_leaf=1, min_samples_split=2,\n",
       "            min_weight_fraction_leaf=0.0, n_estimators=20, n_jobs=-1,\n",
       "            oob_score=False, random_state=3, verbose=0, warm_start=True)"
      ]
     },
     "execution_count": 40,
     "metadata": {},
     "output_type": "execute_result"
    }
   ],
   "source": [
    "model_6.fit(train.loc[:, attributes_6], train.place_id)"
   ]
  },
  {
   "cell_type": "code",
   "execution_count": 41,
   "metadata": {
    "collapsed": false
   },
   "outputs": [
    {
     "data": {
      "text/plain": [
       "0.54655516724912634"
      ]
     },
     "execution_count": 41,
     "metadata": {},
     "output_type": "execute_result"
    }
   ],
   "source": [
    "model_6.score(test.loc[:, attributes_6], test.place_id)"
   ]
  },
  {
   "cell_type": "code",
   "execution_count": 46,
   "metadata": {
    "collapsed": true
   },
   "outputs": [],
   "source": [
    "# Using int accuracy\n",
    "attributes_7 = [u'x', u'y', u'time', u'hour_float', u'day_float', u'week_float', u'month_float',\n",
    "       u'year_float', u'log2_accuracy_int',]"
   ]
  },
  {
   "cell_type": "code",
   "execution_count": 47,
   "metadata": {
    "collapsed": true
   },
   "outputs": [],
   "source": [
    "model_7 = RandomForestClassifier(n_estimators=20, warm_start=True, random_state=3, n_jobs=-1)"
   ]
  },
  {
   "cell_type": "code",
   "execution_count": 48,
   "metadata": {
    "collapsed": false
   },
   "outputs": [
    {
     "data": {
      "text/plain": [
       "RandomForestClassifier(bootstrap=True, class_weight=None, criterion='gini',\n",
       "            max_depth=None, max_features='auto', max_leaf_nodes=None,\n",
       "            min_samples_leaf=1, min_samples_split=2,\n",
       "            min_weight_fraction_leaf=0.0, n_estimators=20, n_jobs=-1,\n",
       "            oob_score=False, random_state=3, verbose=0, warm_start=True)"
      ]
     },
     "execution_count": 48,
     "metadata": {},
     "output_type": "execute_result"
    }
   ],
   "source": [
    "model_7.fit(train.loc[:, attributes_7], train.place_id)"
   ]
  },
  {
   "cell_type": "code",
   "execution_count": 49,
   "metadata": {
    "collapsed": false
   },
   "outputs": [
    {
     "data": {
      "text/plain": [
       "0.54530703944083869"
      ]
     },
     "execution_count": 49,
     "metadata": {},
     "output_type": "execute_result"
    }
   ],
   "source": [
    "model_7.score(test.loc[:, attributes_7], test.place_id)"
   ]
  },
  {
   "cell_type": "code",
   "execution_count": 21,
   "metadata": {
    "collapsed": true
   },
   "outputs": [],
   "source": [
    "# Using all three accuracies\n",
    "attributes_8 = [u'x', u'y', u'time', u'hour_float', u'day_float', u'week_float', u'month_float',\n",
    "       u'year_float', u'accuracy', 'log2_accuracy', 'log10_accuracy']"
   ]
  },
  {
   "cell_type": "code",
   "execution_count": 22,
   "metadata": {
    "collapsed": true
   },
   "outputs": [],
   "source": [
    "model_8 = RandomForestClassifier(n_estimators=20, warm_start=True, random_state=3, n_jobs=-1)"
   ]
  },
  {
   "cell_type": "code",
   "execution_count": 23,
   "metadata": {
    "collapsed": false,
    "scrolled": true
   },
   "outputs": [
    {
     "data": {
      "text/plain": [
       "RandomForestClassifier(bootstrap=True, class_weight=None, criterion='gini',\n",
       "            max_depth=None, max_features='auto', max_leaf_nodes=None,\n",
       "            min_samples_leaf=1, min_samples_split=2,\n",
       "            min_weight_fraction_leaf=0.0, n_estimators=20, n_jobs=-1,\n",
       "            oob_score=False, random_state=3, verbose=0, warm_start=True)"
      ]
     },
     "execution_count": 23,
     "metadata": {},
     "output_type": "execute_result"
    }
   ],
   "source": [
    "model_8.fit(train.loc[:, attributes_8], train.place_id)"
   ]
  },
  {
   "cell_type": "code",
   "execution_count": 24,
   "metadata": {
    "collapsed": false
   },
   "outputs": [
    {
     "data": {
      "text/plain": [
       "0.54068896655017473"
      ]
     },
     "execution_count": 24,
     "metadata": {},
     "output_type": "execute_result"
    }
   ],
   "source": [
    "model_8.score(test.loc[:, attributes_8], test.place_id)"
   ]
  },
  {
   "cell_type": "code",
   "execution_count": 25,
   "metadata": {
    "collapsed": true
   },
   "outputs": [],
   "source": [
    "# Using float and integer values for day, hour, time e.t.c\n",
    "attributes_9 = [u'x', u'y', u'time', u'hour_float', u'day_float', u'week_float', u'month_float',\n",
    "       u'year_float', 'log2_accuracy', 'hour', 'day', 'week', 'month']"
   ]
  },
  {
   "cell_type": "code",
   "execution_count": 60,
   "metadata": {
    "collapsed": true
   },
   "outputs": [],
   "source": [
    "model_9 = RandomForestClassifier(n_estimators=20, warm_start=True, random_state=3, n_jobs=-1)"
   ]
  },
  {
   "cell_type": "code",
   "execution_count": 61,
   "metadata": {
    "collapsed": false
   },
   "outputs": [
    {
     "data": {
      "text/plain": [
       "RandomForestClassifier(bootstrap=True, class_weight=None, criterion='gini',\n",
       "            max_depth=None, max_features='auto', max_leaf_nodes=None,\n",
       "            min_samples_leaf=1, min_samples_split=2,\n",
       "            min_weight_fraction_leaf=0.0, n_estimators=20, n_jobs=-1,\n",
       "            oob_score=False, random_state=3, verbose=0, warm_start=True)"
      ]
     },
     "execution_count": 61,
     "metadata": {},
     "output_type": "execute_result"
    }
   ],
   "source": [
    "model_9.fit(train.loc[:, attributes_9], train.place_id)"
   ]
  },
  {
   "cell_type": "code",
   "execution_count": 63,
   "metadata": {
    "collapsed": false
   },
   "outputs": [
    {
     "data": {
      "text/plain": [
       "0.532825761357963"
      ]
     },
     "execution_count": 63,
     "metadata": {},
     "output_type": "execute_result"
    }
   ],
   "source": [
    "model_9.score(test.loc[:, attributes_9], test.place_id)"
   ]
  },
  {
   "cell_type": "code",
   "execution_count": 27,
   "metadata": {
    "collapsed": true
   },
   "outputs": [],
   "source": [
    "# Adding accu_class\n",
    "attributes_10 = [u'x', u'y', u'time', u'hour_float', u'day_float', u'week_float', u'month_float',\n",
    "       u'year_float', u'log2_accuracy', 'accu_class']"
   ]
  },
  {
   "cell_type": "code",
   "execution_count": 29,
   "metadata": {
    "collapsed": true
   },
   "outputs": [],
   "source": [
    "model_10 = RandomForestClassifier(n_estimators=20, warm_start=True, random_state=3, n_jobs=-1)"
   ]
  },
  {
   "cell_type": "code",
   "execution_count": 30,
   "metadata": {
    "collapsed": false
   },
   "outputs": [
    {
     "data": {
      "text/plain": [
       "RandomForestClassifier(bootstrap=True, class_weight=None, criterion='gini',\n",
       "            max_depth=None, max_features='auto', max_leaf_nodes=None,\n",
       "            min_samples_leaf=1, min_samples_split=2,\n",
       "            min_weight_fraction_leaf=0.0, n_estimators=20, n_jobs=-1,\n",
       "            oob_score=False, random_state=3, verbose=0, warm_start=True)"
      ]
     },
     "execution_count": 30,
     "metadata": {},
     "output_type": "execute_result"
    }
   ],
   "source": [
    "model_10.fit(train.loc[:, attributes_10], train.place_id)"
   ]
  },
  {
   "cell_type": "code",
   "execution_count": 32,
   "metadata": {
    "collapsed": false
   },
   "outputs": [
    {
     "data": {
      "text/plain": [
       "0.54106340489266103"
      ]
     },
     "execution_count": 32,
     "metadata": {},
     "output_type": "execute_result"
    }
   ],
   "source": [
    "model_10.score(test.loc[:, attributes_10], test.place_id)"
   ]
  },
  {
   "cell_type": "code",
   "execution_count": null,
   "metadata": {
    "collapsed": true
   },
   "outputs": [],
   "source": []
  }
 ],
 "metadata": {
  "kernelspec": {
   "display_name": "Python 2",
   "language": "python",
   "name": "python2"
  },
  "language_info": {
   "codemirror_mode": {
    "name": "ipython",
    "version": 2
   },
   "file_extension": ".py",
   "mimetype": "text/x-python",
   "name": "python",
   "nbconvert_exporter": "python",
   "pygments_lexer": "ipython2",
   "version": "2.7.11"
  }
 },
 "nbformat": 4,
 "nbformat_minor": 0
}
