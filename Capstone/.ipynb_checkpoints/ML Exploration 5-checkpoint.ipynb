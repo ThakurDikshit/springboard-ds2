{
 "cells": [
  {
   "cell_type": "code",
   "execution_count": 1,
   "metadata": {
    "collapsed": false
   },
   "outputs": [
    {
     "name": "stdout",
     "output_type": "stream",
     "text": [
      "['', '/Users/rtindru/anaconda/lib/python2.7/site-packages/seaborn-0.7.0-py2.7.egg', '/Users/rtindru/anaconda/lib/python27.zip', '/Users/rtindru/anaconda/lib/python2.7', '/Users/rtindru/anaconda/lib/python2.7/plat-darwin', '/Users/rtindru/anaconda/lib/python2.7/plat-mac', '/Users/rtindru/anaconda/lib/python2.7/plat-mac/lib-scriptpackages', '/Users/rtindru/anaconda/lib/python2.7/lib-tk', '/Users/rtindru/anaconda/lib/python2.7/lib-old', '/Users/rtindru/anaconda/lib/python2.7/lib-dynload', '/Users/rtindru/anaconda/lib/python2.7/site-packages/Sphinx-1.3.5-py2.7.egg', '/Users/rtindru/anaconda/lib/python2.7/site-packages/setuptools-20.3-py2.7.egg', '/Users/rtindru/anaconda/lib/python2.7/site-packages', '/Users/rtindru/anaconda/lib/python2.7/site-packages/aeosa', '/Users/rtindru/anaconda/lib/python2.7/site-packages/IPython/extensions', '/Users/rtindru/.ipython']\n"
     ]
    },
    {
     "name": "stderr",
     "output_type": "stream",
     "text": [
      "/Users/rtindru/anaconda/lib/python2.7/site-packages/sklearn/cross_validation.py:43: DeprecationWarning: This module has been deprecated in favor of the model_selection module into which all the refactored classes and functions are moved. Also note that the interface of the new CV iterators are different from that of this module. This module will be removed in 0.20.\n",
      "  \"This module will be removed in 0.20.\", DeprecationWarning)\n"
     ]
    }
   ],
   "source": [
    "import math\n",
    "import pandas as pd\n",
    "import numpy as np\n",
    "import scipy\n",
    "import matplotlib.pyplot as plt\n",
    "import matplotlib.cm as cm\n",
    "import seaborn as sns\n",
    "from sklearn.cross_validation import train_test_split\n",
    "from sklearn.ensemble import RandomForestClassifier\n",
    "from sklearn.neural_network import MLPClassifier\n",
    "from sklearn import preprocessing\n",
    "import sys\n",
    "print sys.path\n",
    "%matplotlib inline"
   ]
  },
  {
   "cell_type": "code",
   "execution_count": 2,
   "metadata": {
    "collapsed": true
   },
   "outputs": [],
   "source": [
    "df_train = pd.read_csv('../Kaggle_Datasets/Facebook/train.csv')\n",
    "df_test = pd.read_csv('../Kaggle_Datasets/Facebook/test.csv')"
   ]
  },
  {
   "cell_type": "code",
   "execution_count": null,
   "metadata": {
    "collapsed": false
   },
   "outputs": [],
   "source": [
    "min_times = []\n",
    "for i in range(100):\n",
    "    l = i / 100.0\n",
    "    r = (i+1) / 100.0\n",
    "    sdf = df_train[(df_train.x > l) & (df_train.x <= r)]\n",
    "    min_times.append({'row': r, 'min_time': sdf.time.min()})\n",
    "print min_times"
   ]
  },
  {
   "cell_type": "code",
   "execution_count": null,
   "metadata": {
    "collapsed": false
   },
   "outputs": [],
   "source": [
    "tdf = pd.DataFrame.from_records(min_times)"
   ]
  },
  {
   "cell_type": "code",
   "execution_count": null,
   "metadata": {
    "collapsed": false
   },
   "outputs": [],
   "source": [
    "tdf.head()"
   ]
  },
  {
   "cell_type": "code",
   "execution_count": null,
   "metadata": {
    "collapsed": true
   },
   "outputs": [],
   "source": []
  }
 ],
 "metadata": {
  "kernelspec": {
   "display_name": "Python 2",
   "language": "python",
   "name": "python2"
  },
  "language_info": {
   "codemirror_mode": {
    "name": "ipython",
    "version": 2
   },
   "file_extension": ".py",
   "mimetype": "text/x-python",
   "name": "python",
   "nbconvert_exporter": "python",
   "pygments_lexer": "ipython2",
   "version": "2.7.11"
  }
 },
 "nbformat": 4,
 "nbformat_minor": 0
}
