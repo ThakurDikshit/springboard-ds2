{
 "cells": [
  {
   "cell_type": "code",
   "execution_count": 1,
   "metadata": {
    "collapsed": false
   },
   "outputs": [],
   "source": [
    "import math\n",
    "import pandas as pd\n",
    "import numpy as np\n",
    "import scipy\n",
    "import matplotlib.pyplot as plt\n",
    "import matplotlib.cm as cm\n",
    "import seaborn as sns\n",
    "from sklearn.cross_validation import train_test_split\n",
    "from sklearn.ensemble import RandomForestClassifier\n",
    "# from sklearn.neural_network import MLPClassifier\n",
    "%matplotlib inline"
   ]
  },
  {
   "cell_type": "code",
   "execution_count": 2,
   "metadata": {
    "collapsed": false
   },
   "outputs": [],
   "source": [
    "df_train = pd.read_csv('../Kaggle_Datasets/Facebook/train.csv')\n",
    "df_test = pd.read_csv('../Kaggle_Datasets/Facebook/test.csv')"
   ]
  },
  {
   "cell_type": "code",
   "execution_count": 3,
   "metadata": {
    "collapsed": false
   },
   "outputs": [],
   "source": [
    "mini_df = df_train[(df_train.x > 7.0) & (df_train.x < 8.0) & (df_train.y > 3.0) & (df_train.y < 3.25)]"
   ]
  },
  {
   "cell_type": "code",
   "execution_count": 15,
   "metadata": {
    "collapsed": true
   },
   "outputs": [],
   "source": [
    "df_train = None\n",
    "df_test = None"
   ]
  },
  {
   "cell_type": "code",
   "execution_count": 4,
   "metadata": {
    "collapsed": true
   },
   "outputs": [],
   "source": [
    "def apply_accu_class(x):\n",
    "    rise_ranges = ((50, 90), (130, 160), (220, 310), (380, 600))\n",
    "    fall_ranges = ((0, 40), (110, 120), (190, 210), (320, 370), )\n",
    "    peak_ranges = ((90, 110), (160, 190), (310, 320), )\n",
    "    trough_ranges = ((40, 50), (120, 130), (210, 220), (370, 380))\n",
    "    class_dict = {rise_ranges: 1, fall_ranges: -1, peak_ranges: 2, trough_ranges: -2}\n",
    "    for rang in [rise_ranges, fall_ranges, peak_ranges, trough_ranges]:\n",
    "        for a, b in rang:\n",
    "            if a <= x < b:\n",
    "                return class_dict[rang]"
   ]
  },
  {
   "cell_type": "code",
   "execution_count": 5,
   "metadata": {
    "collapsed": false
   },
   "outputs": [],
   "source": [
    "def mod_df(mini_df):\n",
    "    mini_df.loc[:, 'hour'] = mini_df.time // 60 % 24 + 1\n",
    "    mini_df.loc[:, 'day'] = mini_df.time // (60*24) % 7 + 1\n",
    "    mini_df.loc[:, 'week'] = mini_df.time // (60*24*7) % 52 + 1\n",
    "    mini_df.loc[:, 'month'] = mini_df.time // (60*24*30) % 12 + 1\n",
    "    mini_df.loc[:, 'year'] = mini_df.time // (60*24*365) + 1\n",
    "\n",
    "    mini_df.loc[:, 'hours'] = mini_df.time // 60 + 1\n",
    "    mini_df.loc[:, 'days'] = mini_df.time // (60*24) + 1\n",
    "    mini_df.loc[:, 'weeks'] = mini_df.time // (60*24*7) + 1\n",
    "    mini_df.loc[:, 'months'] = mini_df.time // (60*24*30) + 1\n",
    "    mini_df.loc[:, 'years'] = mini_df.time // (60*24*365) + 1\n",
    "    \n",
    "    mini_df.loc[:, 'hour_float'] = mini_df.time / 60 % 24 + 1\n",
    "    mini_df.loc[:, 'day_float'] = mini_df.time / (60*24) % 7 + 1\n",
    "    mini_df.loc[:, 'week_float'] = mini_df.time / (60*24*7) % 52 + 1\n",
    "    mini_df.loc[:, 'month_float'] = mini_df.time / (60*24*30) % 12 + 1\n",
    "    mini_df.loc[:, 'year_float'] = mini_df.time / (60*24*365) + 1\n",
    "\n",
    "    mini_df.loc[:, 'accu_class'] = mini_df.days.apply(apply_accu_class)\n",
    "    mini_df.loc[:, 'log2_accuracy'] = np.log2(mini_df.accuracy) * 10\n",
    "    mini_df.loc[:, 'log10_accuracy'] = np.log10(mini_df.accuracy) * 10\n",
    "    mini_df.loc[:, 'log2_accuracy_int'] = (np.log2(mini_df.accuracy) * 10).astype(int)\n",
    "    mini_df.loc[:, 'log10_accuracy_int'] = (np.log10(mini_df.accuracy) * 10).astype(int)\n",
    "    \n",
    "    return mini_df"
   ]
  },
  {
   "cell_type": "code",
   "execution_count": 6,
   "metadata": {
    "collapsed": false
   },
   "outputs": [
    {
     "name": "stderr",
     "output_type": "stream",
     "text": [
      "/Users/rtindru/anaconda/lib/python2.7/site-packages/pandas/core/indexing.py:284: SettingWithCopyWarning: \n",
      "A value is trying to be set on a copy of a slice from a DataFrame.\n",
      "Try using .loc[row_indexer,col_indexer] = value instead\n",
      "\n",
      "See the caveats in the documentation: http://pandas.pydata.org/pandas-docs/stable/indexing.html#indexing-view-versus-copy\n",
      "  self.obj[key] = _infer_fill_value(value)\n",
      "/Users/rtindru/anaconda/lib/python2.7/site-packages/pandas/core/indexing.py:461: SettingWithCopyWarning: \n",
      "A value is trying to be set on a copy of a slice from a DataFrame.\n",
      "Try using .loc[row_indexer,col_indexer] = value instead\n",
      "\n",
      "See the caveats in the documentation: http://pandas.pydata.org/pandas-docs/stable/indexing.html#indexing-view-versus-copy\n",
      "  self.obj[item] = s\n"
     ]
    },
    {
     "data": {
      "text/html": [
       "<div>\n",
       "<table border=\"1\" class=\"dataframe\">\n",
       "  <thead>\n",
       "    <tr style=\"text-align: right;\">\n",
       "      <th></th>\n",
       "      <th>row_id</th>\n",
       "      <th>x</th>\n",
       "      <th>y</th>\n",
       "      <th>accuracy</th>\n",
       "      <th>time</th>\n",
       "      <th>place_id</th>\n",
       "      <th>hour</th>\n",
       "      <th>day</th>\n",
       "      <th>week</th>\n",
       "      <th>month</th>\n",
       "      <th>...</th>\n",
       "      <th>hour_float</th>\n",
       "      <th>day_float</th>\n",
       "      <th>week_float</th>\n",
       "      <th>month_float</th>\n",
       "      <th>year_float</th>\n",
       "      <th>accu_class</th>\n",
       "      <th>log2_accuracy</th>\n",
       "      <th>log10_accuracy</th>\n",
       "      <th>log2_accuracy_int</th>\n",
       "      <th>log10_accuracy_int</th>\n",
       "    </tr>\n",
       "  </thead>\n",
       "  <tbody>\n",
       "    <tr>\n",
       "      <th>301</th>\n",
       "      <td>301</td>\n",
       "      <td>7.3815</td>\n",
       "      <td>3.2452</td>\n",
       "      <td>12</td>\n",
       "      <td>467320</td>\n",
       "      <td>4836326665</td>\n",
       "      <td>13</td>\n",
       "      <td>3</td>\n",
       "      <td>47</td>\n",
       "      <td>11</td>\n",
       "      <td>...</td>\n",
       "      <td>13.666667</td>\n",
       "      <td>3.527778</td>\n",
       "      <td>47.361111</td>\n",
       "      <td>11.817593</td>\n",
       "      <td>1.889117</td>\n",
       "      <td>-1</td>\n",
       "      <td>35.849625</td>\n",
       "      <td>10.791812</td>\n",
       "      <td>35</td>\n",
       "      <td>10</td>\n",
       "    </tr>\n",
       "    <tr>\n",
       "      <th>934</th>\n",
       "      <td>934</td>\n",
       "      <td>7.7305</td>\n",
       "      <td>3.1939</td>\n",
       "      <td>40</td>\n",
       "      <td>711601</td>\n",
       "      <td>6395826556</td>\n",
       "      <td>5</td>\n",
       "      <td>5</td>\n",
       "      <td>19</td>\n",
       "      <td>5</td>\n",
       "      <td>...</td>\n",
       "      <td>5.016667</td>\n",
       "      <td>5.167361</td>\n",
       "      <td>19.595337</td>\n",
       "      <td>5.472245</td>\n",
       "      <td>2.353883</td>\n",
       "      <td>1</td>\n",
       "      <td>53.219281</td>\n",
       "      <td>16.020600</td>\n",
       "      <td>53</td>\n",
       "      <td>16</td>\n",
       "    </tr>\n",
       "    <tr>\n",
       "      <th>1439</th>\n",
       "      <td>1439</td>\n",
       "      <td>7.7695</td>\n",
       "      <td>3.1632</td>\n",
       "      <td>105</td>\n",
       "      <td>570752</td>\n",
       "      <td>4637915744</td>\n",
       "      <td>9</td>\n",
       "      <td>5</td>\n",
       "      <td>5</td>\n",
       "      <td>2</td>\n",
       "      <td>...</td>\n",
       "      <td>9.533333</td>\n",
       "      <td>5.355556</td>\n",
       "      <td>5.622222</td>\n",
       "      <td>2.211852</td>\n",
       "      <td>2.085906</td>\n",
       "      <td>1</td>\n",
       "      <td>67.142455</td>\n",
       "      <td>20.211893</td>\n",
       "      <td>67</td>\n",
       "      <td>20</td>\n",
       "    </tr>\n",
       "    <tr>\n",
       "      <th>2339</th>\n",
       "      <td>2339</td>\n",
       "      <td>7.3378</td>\n",
       "      <td>3.0791</td>\n",
       "      <td>8</td>\n",
       "      <td>215857</td>\n",
       "      <td>6676464189</td>\n",
       "      <td>22</td>\n",
       "      <td>3</td>\n",
       "      <td>22</td>\n",
       "      <td>5</td>\n",
       "      <td>...</td>\n",
       "      <td>22.616667</td>\n",
       "      <td>3.900694</td>\n",
       "      <td>22.414385</td>\n",
       "      <td>5.996690</td>\n",
       "      <td>1.410687</td>\n",
       "      <td>1</td>\n",
       "      <td>30.000000</td>\n",
       "      <td>9.030900</td>\n",
       "      <td>30</td>\n",
       "      <td>9</td>\n",
       "    </tr>\n",
       "    <tr>\n",
       "      <th>2628</th>\n",
       "      <td>2628</td>\n",
       "      <td>7.6923</td>\n",
       "      <td>3.1651</td>\n",
       "      <td>68</td>\n",
       "      <td>132894</td>\n",
       "      <td>8546326406</td>\n",
       "      <td>7</td>\n",
       "      <td>2</td>\n",
       "      <td>14</td>\n",
       "      <td>4</td>\n",
       "      <td>...</td>\n",
       "      <td>7.900000</td>\n",
       "      <td>2.287500</td>\n",
       "      <td>14.183929</td>\n",
       "      <td>4.076250</td>\n",
       "      <td>1.252842</td>\n",
       "      <td>2</td>\n",
       "      <td>60.874628</td>\n",
       "      <td>18.325089</td>\n",
       "      <td>60</td>\n",
       "      <td>18</td>\n",
       "    </tr>\n",
       "  </tbody>\n",
       "</table>\n",
       "<p>5 rows × 26 columns</p>\n",
       "</div>"
      ],
      "text/plain": [
       "      row_id       x       y  accuracy    time    place_id  hour  day  week  \\\n",
       "301      301  7.3815  3.2452        12  467320  4836326665    13    3    47   \n",
       "934      934  7.7305  3.1939        40  711601  6395826556     5    5    19   \n",
       "1439    1439  7.7695  3.1632       105  570752  4637915744     9    5     5   \n",
       "2339    2339  7.3378  3.0791         8  215857  6676464189    22    3    22   \n",
       "2628    2628  7.6923  3.1651        68  132894  8546326406     7    2    14   \n",
       "\n",
       "      month         ...          hour_float  day_float  week_float  \\\n",
       "301      11         ...           13.666667   3.527778   47.361111   \n",
       "934       5         ...            5.016667   5.167361   19.595337   \n",
       "1439      2         ...            9.533333   5.355556    5.622222   \n",
       "2339      5         ...           22.616667   3.900694   22.414385   \n",
       "2628      4         ...            7.900000   2.287500   14.183929   \n",
       "\n",
       "      month_float  year_float  accu_class  log2_accuracy  log10_accuracy  \\\n",
       "301     11.817593    1.889117          -1      35.849625       10.791812   \n",
       "934      5.472245    2.353883           1      53.219281       16.020600   \n",
       "1439     2.211852    2.085906           1      67.142455       20.211893   \n",
       "2339     5.996690    1.410687           1      30.000000        9.030900   \n",
       "2628     4.076250    1.252842           2      60.874628       18.325089   \n",
       "\n",
       "      log2_accuracy_int  log10_accuracy_int  \n",
       "301                  35                  10  \n",
       "934                  53                  16  \n",
       "1439                 67                  20  \n",
       "2339                 30                   9  \n",
       "2628                 60                  18  \n",
       "\n",
       "[5 rows x 26 columns]"
      ]
     },
     "execution_count": 6,
     "metadata": {},
     "output_type": "execute_result"
    }
   ],
   "source": [
    "mini_df = mod_df(mini_df)\n",
    "mini_df.head()"
   ]
  },
  {
   "cell_type": "code",
   "execution_count": 7,
   "metadata": {
    "collapsed": false
   },
   "outputs": [
    {
     "data": {
      "text/plain": [
       "Index([u'row_id', u'x', u'y', u'accuracy', u'time', u'place_id', u'hour',\n",
       "       u'day', u'week', u'month', u'year', u'hours', u'days', u'weeks',\n",
       "       u'months', u'years', u'hour_float', u'day_float', u'week_float',\n",
       "       u'month_float', u'year_float', u'accu_class', u'log2_accuracy',\n",
       "       u'log10_accuracy', u'log2_accuracy_int', u'log10_accuracy_int'],\n",
       "      dtype='object')"
      ]
     },
     "execution_count": 7,
     "metadata": {},
     "output_type": "execute_result"
    }
   ],
   "source": [
    "mini_df.columns"
   ]
  },
  {
   "cell_type": "code",
   "execution_count": 8,
   "metadata": {
    "collapsed": false
   },
   "outputs": [
    {
     "data": {
      "text/plain": [
       "1897"
      ]
     },
     "execution_count": 8,
     "metadata": {},
     "output_type": "execute_result"
    }
   ],
   "source": [
    "len(mini_df.place_id.unique())"
   ]
  },
  {
   "cell_type": "code",
   "execution_count": 9,
   "metadata": {
    "collapsed": true
   },
   "outputs": [],
   "source": [
    "train, test = train_test_split(mini_df, random_state=88)"
   ]
  },
  {
   "cell_type": "code",
   "execution_count": 10,
   "metadata": {
    "collapsed": true
   },
   "outputs": [],
   "source": [
    "attributes = [u'x', u'y', u'accuracy', u'time', u'hour', u'day', u'week', u'month',\n",
    "       u'year', u'log2_accuracy', u'log10_accuracy',]"
   ]
  },
  {
   "cell_type": "code",
   "execution_count": 11,
   "metadata": {
    "collapsed": false
   },
   "outputs": [],
   "source": [
    "model = RandomForestClassifier(n_estimators=20, warm_start=True, random_state=3, n_jobs=-1)"
   ]
  },
  {
   "cell_type": "code",
   "execution_count": 12,
   "metadata": {
    "collapsed": false
   },
   "outputs": [
    {
     "data": {
      "text/plain": [
       "RandomForestClassifier(bootstrap=True, class_weight=None, criterion='gini',\n",
       "            max_depth=None, max_features='auto', max_leaf_nodes=None,\n",
       "            min_samples_leaf=1, min_samples_split=2,\n",
       "            min_weight_fraction_leaf=0.0, n_estimators=20, n_jobs=-1,\n",
       "            oob_score=False, random_state=3, verbose=0, warm_start=True)"
      ]
     },
     "execution_count": 12,
     "metadata": {},
     "output_type": "execute_result"
    }
   ],
   "source": [
    "model.fit(train.loc[:, attributes], train.place_id)"
   ]
  },
  {
   "cell_type": "code",
   "execution_count": 13,
   "metadata": {
    "collapsed": false
   },
   "outputs": [
    {
     "data": {
      "text/plain": [
       "0.52538316614898928"
      ]
     },
     "execution_count": 13,
     "metadata": {},
     "output_type": "execute_result"
    }
   ],
   "source": [
    "model.score(test.loc[:, attributes], test.place_id)"
   ]
  },
  {
   "cell_type": "code",
   "execution_count": 14,
   "metadata": {
    "collapsed": true
   },
   "outputs": [],
   "source": [
    "# Using hours, days... instead of hour, day...\n",
    "attributes_2 = [u'x', u'y', u'accuracy', u'time', u'hours', u'days', u'weeks', u'months',\n",
    "       u'year', u'log2_accuracy', u'log10_accuracy',]"
   ]
  },
  {
   "cell_type": "code",
   "execution_count": 15,
   "metadata": {
    "collapsed": false
   },
   "outputs": [],
   "source": [
    "model_2 = RandomForestClassifier(n_estimators=20, warm_start=True, random_state=3, n_jobs=-1)"
   ]
  },
  {
   "cell_type": "code",
   "execution_count": 16,
   "metadata": {
    "collapsed": false
   },
   "outputs": [
    {
     "data": {
      "text/plain": [
       "RandomForestClassifier(bootstrap=True, class_weight=None, criterion='gini',\n",
       "            max_depth=None, max_features='auto', max_leaf_nodes=None,\n",
       "            min_samples_leaf=1, min_samples_split=2,\n",
       "            min_weight_fraction_leaf=0.0, n_estimators=20, n_jobs=-1,\n",
       "            oob_score=False, random_state=3, verbose=0, warm_start=True)"
      ]
     },
     "execution_count": 16,
     "metadata": {},
     "output_type": "execute_result"
    }
   ],
   "source": [
    "model_2.fit(train.loc[:, attributes_2], train.place_id)"
   ]
  },
  {
   "cell_type": "code",
   "execution_count": 17,
   "metadata": {
    "collapsed": false
   },
   "outputs": [
    {
     "data": {
      "text/plain": [
       "0.44541043267286695"
      ]
     },
     "execution_count": 17,
     "metadata": {},
     "output_type": "execute_result"
    }
   ],
   "source": [
    "model_2.score(test.loc[:, attributes_2], test.place_id)"
   ]
  },
  {
   "cell_type": "code",
   "execution_count": 18,
   "metadata": {
    "collapsed": true
   },
   "outputs": [],
   "source": [
    "# Removing log2 and log10 accuracy\n",
    "attributes_3 = [u'x', u'y', u'time', u'hour', u'day', u'week', u'month',\n",
    "       u'year', u'accuracy',]"
   ]
  },
  {
   "cell_type": "code",
   "execution_count": 19,
   "metadata": {
    "collapsed": true
   },
   "outputs": [],
   "source": [
    "model_3 = RandomForestClassifier(n_estimators=20, warm_start=True, random_state=3, n_jobs=-1)"
   ]
  },
  {
   "cell_type": "code",
   "execution_count": 20,
   "metadata": {
    "collapsed": false
   },
   "outputs": [
    {
     "data": {
      "text/plain": [
       "RandomForestClassifier(bootstrap=True, class_weight=None, criterion='gini',\n",
       "            max_depth=None, max_features='auto', max_leaf_nodes=None,\n",
       "            min_samples_leaf=1, min_samples_split=2,\n",
       "            min_weight_fraction_leaf=0.0, n_estimators=20, n_jobs=-1,\n",
       "            oob_score=False, random_state=3, verbose=0, warm_start=True)"
      ]
     },
     "execution_count": 20,
     "metadata": {},
     "output_type": "execute_result"
    }
   ],
   "source": [
    "model_3.fit(train.loc[:, attributes_3], train.place_id)"
   ]
  },
  {
   "cell_type": "code",
   "execution_count": 21,
   "metadata": {
    "collapsed": false
   },
   "outputs": [
    {
     "data": {
      "text/plain": [
       "0.55388192478770726"
      ]
     },
     "execution_count": 21,
     "metadata": {},
     "output_type": "execute_result"
    }
   ],
   "source": [
    "model_3.score(test.loc[:, attributes_3], test.place_id)"
   ]
  },
  {
   "cell_type": "code",
   "execution_count": 22,
   "metadata": {
    "collapsed": true
   },
   "outputs": [],
   "source": [
    "# Using only log10 instead of accuracy\n",
    "attributes_4 = [u'x', u'y', u'time', u'hour', u'day', u'week', u'month',\n",
    "       u'year', u'log10_accuracy',]"
   ]
  },
  {
   "cell_type": "code",
   "execution_count": 23,
   "metadata": {
    "collapsed": false
   },
   "outputs": [],
   "source": [
    "model_4 = RandomForestClassifier(n_estimators=20, warm_start=True, random_state=3, n_jobs=-1)"
   ]
  },
  {
   "cell_type": "code",
   "execution_count": 24,
   "metadata": {
    "collapsed": false
   },
   "outputs": [
    {
     "data": {
      "text/plain": [
       "RandomForestClassifier(bootstrap=True, class_weight=None, criterion='gini',\n",
       "            max_depth=None, max_features='auto', max_leaf_nodes=None,\n",
       "            min_samples_leaf=1, min_samples_split=2,\n",
       "            min_weight_fraction_leaf=0.0, n_estimators=20, n_jobs=-1,\n",
       "            oob_score=False, random_state=3, verbose=0, warm_start=True)"
      ]
     },
     "execution_count": 24,
     "metadata": {},
     "output_type": "execute_result"
    }
   ],
   "source": [
    "model_4.fit(train.loc[:, attributes_4], train.place_id)"
   ]
  },
  {
   "cell_type": "code",
   "execution_count": 25,
   "metadata": {
    "collapsed": false
   },
   "outputs": [
    {
     "data": {
      "text/plain": [
       "0.55448847553578651"
      ]
     },
     "execution_count": 25,
     "metadata": {},
     "output_type": "execute_result"
    }
   ],
   "source": [
    "model_4.score(test.loc[:, attributes_4], test.place_id)"
   ]
  },
  {
   "cell_type": "code",
   "execution_count": 26,
   "metadata": {
    "collapsed": true
   },
   "outputs": [],
   "source": [
    "# Using only log2 instead of accuracy\n",
    "attributes_4a = [u'x', u'y', u'time', u'hour', u'day', u'week', u'month',\n",
    "       u'year', u'log2_accuracy',]"
   ]
  },
  {
   "cell_type": "code",
   "execution_count": 27,
   "metadata": {
    "collapsed": true
   },
   "outputs": [],
   "source": [
    "model_4a = RandomForestClassifier(n_estimators=20, warm_start=True, random_state=3, n_jobs=-1)"
   ]
  },
  {
   "cell_type": "code",
   "execution_count": 28,
   "metadata": {
    "collapsed": false
   },
   "outputs": [
    {
     "data": {
      "text/plain": [
       "RandomForestClassifier(bootstrap=True, class_weight=None, criterion='gini',\n",
       "            max_depth=None, max_features='auto', max_leaf_nodes=None,\n",
       "            min_samples_leaf=1, min_samples_split=2,\n",
       "            min_weight_fraction_leaf=0.0, n_estimators=20, n_jobs=-1,\n",
       "            oob_score=False, random_state=3, verbose=0, warm_start=True)"
      ]
     },
     "execution_count": 28,
     "metadata": {},
     "output_type": "execute_result"
    }
   ],
   "source": [
    "model_4a.fit(train.loc[:, attributes_4a], train.place_id)"
   ]
  },
  {
   "cell_type": "code",
   "execution_count": 29,
   "metadata": {
    "collapsed": false
   },
   "outputs": [
    {
     "data": {
      "text/plain": [
       "0.55448847553578651"
      ]
     },
     "execution_count": 29,
     "metadata": {},
     "output_type": "execute_result"
    }
   ],
   "source": [
    "model_4a.score(test.loc[:, attributes_4a], test.place_id)"
   ]
  },
  {
   "cell_type": "code",
   "execution_count": 33,
   "metadata": {
    "collapsed": true
   },
   "outputs": [],
   "source": [
    "# Removing time\n",
    "attributes_5 = [u'x', u'y', u'hour', u'day', u'week', u'month',\n",
    "       u'year', u'log10_accuracy',]"
   ]
  },
  {
   "cell_type": "code",
   "execution_count": 34,
   "metadata": {
    "collapsed": true
   },
   "outputs": [],
   "source": [
    "model_5 = RandomForestClassifier(n_estimators=20, warm_start=True, random_state=3, n_jobs=-1)"
   ]
  },
  {
   "cell_type": "code",
   "execution_count": 35,
   "metadata": {
    "collapsed": false
   },
   "outputs": [
    {
     "data": {
      "text/plain": [
       "RandomForestClassifier(bootstrap=True, class_weight=None, criterion='gini',\n",
       "            max_depth=None, max_features='auto', max_leaf_nodes=None,\n",
       "            min_samples_leaf=1, min_samples_split=2,\n",
       "            min_weight_fraction_leaf=0.0, n_estimators=20, n_jobs=-1,\n",
       "            oob_score=False, random_state=3, verbose=0, warm_start=True)"
      ]
     },
     "execution_count": 35,
     "metadata": {},
     "output_type": "execute_result"
    }
   ],
   "source": [
    "model_5.fit(train.loc[:, attributes_5], train.place_id)"
   ]
  },
  {
   "cell_type": "code",
   "execution_count": 36,
   "metadata": {
    "collapsed": false
   },
   "outputs": [
    {
     "data": {
      "text/plain": [
       "0.53983016579053777"
      ]
     },
     "execution_count": 36,
     "metadata": {},
     "output_type": "execute_result"
    }
   ],
   "source": [
    "model_5.score(test.loc[:, attributes_5], test.place_id)"
   ]
  },
  {
   "cell_type": "code",
   "execution_count": 16,
   "metadata": {
    "collapsed": true
   },
   "outputs": [],
   "source": [
    "# Using float day, week and month instead of rounded ints\n",
    "attributes_6 = [u'x', u'y', u'time', u'hour_float', u'day_float', u'week_float', u'month_float',\n",
    "       u'year_float', u'log2_accuracy',]"
   ]
  },
  {
   "cell_type": "code",
   "execution_count": 17,
   "metadata": {
    "collapsed": true
   },
   "outputs": [],
   "source": [
    "model_6 = RandomForestClassifier(n_estimators=20, warm_start=True, random_state=3, n_jobs=-1)"
   ]
  },
  {
   "cell_type": "code",
   "execution_count": 18,
   "metadata": {
    "collapsed": false
   },
   "outputs": [
    {
     "data": {
      "text/plain": [
       "RandomForestClassifier(bootstrap=True, class_weight=None, criterion='gini',\n",
       "            max_depth=None, max_features='auto', max_leaf_nodes=None,\n",
       "            min_samples_leaf=1, min_samples_split=2,\n",
       "            min_weight_fraction_leaf=0.0, n_estimators=20, n_jobs=-1,\n",
       "            oob_score=False, random_state=3, verbose=0, warm_start=True)"
      ]
     },
     "execution_count": 18,
     "metadata": {},
     "output_type": "execute_result"
    }
   ],
   "source": [
    "model_6.fit(train.loc[:, attributes_6], train.place_id)"
   ]
  },
  {
   "cell_type": "code",
   "execution_count": 19,
   "metadata": {
    "collapsed": false
   },
   "outputs": [
    {
     "data": {
      "text/plain": [
       "0.55832781709863033"
      ]
     },
     "execution_count": 19,
     "metadata": {},
     "output_type": "execute_result"
    }
   ],
   "source": [
    "model_6.score(test.loc[:, attributes_6], test.place_id)"
   ]
  },
  {
   "cell_type": "code",
   "execution_count": 19,
   "metadata": {
    "collapsed": true
   },
   "outputs": [],
   "source": [
    "# Using int accuracy\n",
    "attributes_7 = [u'x', u'y', u'time', u'hour_float', u'day_float', u'week_float', u'month_float',\n",
    "       u'year_float', u'log2_accuracy_int',]"
   ]
  },
  {
   "cell_type": "code",
   "execution_count": 20,
   "metadata": {
    "collapsed": true
   },
   "outputs": [],
   "source": [
    "model_7 = RandomForestClassifier(n_estimators=20, warm_start=True, random_state=3, n_jobs=-1)"
   ]
  },
  {
   "cell_type": "code",
   "execution_count": 21,
   "metadata": {
    "collapsed": false
   },
   "outputs": [
    {
     "data": {
      "text/plain": [
       "RandomForestClassifier(bootstrap=True, class_weight=None, criterion='gini',\n",
       "            max_depth=None, max_features='auto', max_leaf_nodes=None,\n",
       "            min_samples_leaf=1, min_samples_split=2,\n",
       "            min_weight_fraction_leaf=0.0, n_estimators=20, n_jobs=-1,\n",
       "            oob_score=False, random_state=3, verbose=0, warm_start=True)"
      ]
     },
     "execution_count": 21,
     "metadata": {},
     "output_type": "execute_result"
    }
   ],
   "source": [
    "model_7.fit(train.loc[:, attributes_7], train.place_id)"
   ]
  },
  {
   "cell_type": "code",
   "execution_count": 22,
   "metadata": {
    "collapsed": false
   },
   "outputs": [
    {
     "data": {
      "text/plain": [
       "0.5612616255560049"
      ]
     },
     "execution_count": 22,
     "metadata": {},
     "output_type": "execute_result"
    }
   ],
   "source": [
    "model_7.score(test.loc[:, attributes_7], test.place_id)"
   ]
  },
  {
   "cell_type": "code",
   "execution_count": 23,
   "metadata": {
    "collapsed": true
   },
   "outputs": [],
   "source": [
    "# Using all three accuracies\n",
    "attributes_8 = [u'x', u'y', u'time', u'hour_float', u'day_float', u'week_float', u'month_float',\n",
    "       u'year_float', u'accuracy', 'log2_accuracy', 'log10_accuracy']"
   ]
  },
  {
   "cell_type": "code",
   "execution_count": 24,
   "metadata": {
    "collapsed": true
   },
   "outputs": [],
   "source": [
    "model_8 = RandomForestClassifier(n_estimators=20, warm_start=True, random_state=3, n_jobs=-1)"
   ]
  },
  {
   "cell_type": "code",
   "execution_count": 25,
   "metadata": {
    "collapsed": false,
    "scrolled": true
   },
   "outputs": [
    {
     "data": {
      "text/plain": [
       "RandomForestClassifier(bootstrap=True, class_weight=None, criterion='gini',\n",
       "            max_depth=None, max_features='auto', max_leaf_nodes=None,\n",
       "            min_samples_leaf=1, min_samples_split=2,\n",
       "            min_weight_fraction_leaf=0.0, n_estimators=20, n_jobs=-1,\n",
       "            oob_score=False, random_state=3, verbose=0, warm_start=True)"
      ]
     },
     "execution_count": 25,
     "metadata": {},
     "output_type": "execute_result"
    }
   ],
   "source": [
    "model_8.fit(train.loc[:, attributes_8], train.place_id)"
   ]
  },
  {
   "cell_type": "code",
   "execution_count": 26,
   "metadata": {
    "collapsed": false
   },
   "outputs": [
    {
     "data": {
      "text/plain": [
       "0.54963606955115241"
      ]
     },
     "execution_count": 26,
     "metadata": {},
     "output_type": "execute_result"
    }
   ],
   "source": [
    "model_8.score(test.loc[:, attributes_8], test.place_id)"
   ]
  },
  {
   "cell_type": "code",
   "execution_count": 27,
   "metadata": {
    "collapsed": true
   },
   "outputs": [],
   "source": [
    "# Using float and integer values for day, hour, time e.t.c\n",
    "attributes_9 = [u'x', u'y', u'time', u'hour_float', u'day_float', u'week_float', u'month_float',\n",
    "       u'year_float', 'log2_accuracy', 'hour', 'day', 'week', 'month']"
   ]
  },
  {
   "cell_type": "code",
   "execution_count": 28,
   "metadata": {
    "collapsed": true
   },
   "outputs": [],
   "source": [
    "model_9 = RandomForestClassifier(n_estimators=20, warm_start=True, random_state=3, n_jobs=-1)"
   ]
  },
  {
   "cell_type": "code",
   "execution_count": 29,
   "metadata": {
    "collapsed": false
   },
   "outputs": [
    {
     "data": {
      "text/plain": [
       "RandomForestClassifier(bootstrap=True, class_weight=None, criterion='gini',\n",
       "            max_depth=None, max_features='auto', max_leaf_nodes=None,\n",
       "            min_samples_leaf=1, min_samples_split=2,\n",
       "            min_weight_fraction_leaf=0.0, n_estimators=20, n_jobs=-1,\n",
       "            oob_score=False, random_state=3, verbose=0, warm_start=True)"
      ]
     },
     "execution_count": 29,
     "metadata": {},
     "output_type": "execute_result"
    }
   ],
   "source": [
    "model_9.fit(train.loc[:, attributes_9], train.place_id)"
   ]
  },
  {
   "cell_type": "code",
   "execution_count": 30,
   "metadata": {
    "collapsed": false
   },
   "outputs": [
    {
     "data": {
      "text/plain": [
       "0.54741205014152849"
      ]
     },
     "execution_count": 30,
     "metadata": {},
     "output_type": "execute_result"
    }
   ],
   "source": [
    "model_9.score(test.loc[:, attributes_9], test.place_id)"
   ]
  },
  {
   "cell_type": "code",
   "execution_count": 31,
   "metadata": {
    "collapsed": true
   },
   "outputs": [],
   "source": [
    "# Adding accu_class\n",
    "attributes_10 = [u'x', u'y', u'time', u'hour_float', u'day_float', u'week_float', u'month_float',\n",
    "       u'year_float', u'log2_accuracy', 'accu_class']"
   ]
  },
  {
   "cell_type": "code",
   "execution_count": 32,
   "metadata": {
    "collapsed": true
   },
   "outputs": [],
   "source": [
    "model_10 = RandomForestClassifier(n_estimators=20, warm_start=True, random_state=3, n_jobs=-1)"
   ]
  },
  {
   "cell_type": "code",
   "execution_count": 33,
   "metadata": {
    "collapsed": false
   },
   "outputs": [
    {
     "data": {
      "text/plain": [
       "RandomForestClassifier(bootstrap=True, class_weight=None, criterion='gini',\n",
       "            max_depth=None, max_features='auto', max_leaf_nodes=None,\n",
       "            min_samples_leaf=1, min_samples_split=2,\n",
       "            min_weight_fraction_leaf=0.0, n_estimators=20, n_jobs=-1,\n",
       "            oob_score=False, random_state=3, verbose=0, warm_start=True)"
      ]
     },
     "execution_count": 33,
     "metadata": {},
     "output_type": "execute_result"
    }
   ],
   "source": [
    "model_10.fit(train.loc[:, attributes_10], train.place_id)"
   ]
  },
  {
   "cell_type": "code",
   "execution_count": 34,
   "metadata": {
    "collapsed": false
   },
   "outputs": [
    {
     "data": {
      "text/plain": [
       "0.55883542256368779"
      ]
     },
     "execution_count": 34,
     "metadata": {},
     "output_type": "execute_result"
    }
   ],
   "source": [
    "model_10.score(test.loc[:, attributes_10], test.place_id)"
   ]
  },
  {
   "cell_type": "code",
   "execution_count": null,
   "metadata": {
    "collapsed": true
   },
   "outputs": [],
   "source": []
  }
 ],
 "metadata": {
  "kernelspec": {
   "display_name": "Python 2",
   "language": "python",
   "name": "python2"
  },
  "language_info": {
   "codemirror_mode": {
    "name": "ipython",
    "version": 2
   },
   "file_extension": ".py",
   "mimetype": "text/x-python",
   "name": "python",
   "nbconvert_exporter": "python",
   "pygments_lexer": "ipython2",
   "version": "2.7.11"
  }
 },
 "nbformat": 4,
 "nbformat_minor": 0
}
