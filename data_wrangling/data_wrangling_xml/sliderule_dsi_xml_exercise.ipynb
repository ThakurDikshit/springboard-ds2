{
 "cells": [
  {
   "cell_type": "markdown",
   "metadata": {},
   "source": [
    "# XML example and exercise\n",
    "****\n",
    "+ study examples of accessing nodes in XML tree structure  \n",
    "+ work on exercise to be completed and submitted\n",
    "****\n",
    "+ reference: https://docs.python.org/2.7/library/xml.etree.elementtree.html\n",
    "+ data source: http://www.dbis.informatik.uni-goettingen.de/Mondial\n",
    "****"
   ]
  },
  {
   "cell_type": "code",
   "execution_count": 30,
   "metadata": {
    "collapsed": true
   },
   "outputs": [],
   "source": [
    "from xml.etree import ElementTree as ET\n",
    "import numpy as np\n",
    "import pandas as pd"
   ]
  },
  {
   "cell_type": "markdown",
   "metadata": {},
   "source": [
    "## XML example\n",
    "\n",
    "+ for details about tree traversal and iterators, see https://docs.python.org/2.7/library/xml.etree.elementtree.html"
   ]
  },
  {
   "cell_type": "code",
   "execution_count": 361,
   "metadata": {
    "collapsed": true
   },
   "outputs": [],
   "source": [
    "document_tree = ET.parse( './data/mondial_database_less.xml' )"
   ]
  },
  {
   "cell_type": "code",
   "execution_count": 362,
   "metadata": {
    "collapsed": false
   },
   "outputs": [
    {
     "name": "stdout",
     "output_type": "stream",
     "text": [
      "Albania\n",
      "Greece\n",
      "Macedonia\n",
      "Serbia\n",
      "Montenegro\n",
      "Kosovo\n",
      "Andorra\n"
     ]
    }
   ],
   "source": [
    "# print names of all countries\n",
    "for child in document_tree.getroot():\n",
    "    print child.find('name').text"
   ]
  },
  {
   "cell_type": "code",
   "execution_count": 363,
   "metadata": {
    "collapsed": false
   },
   "outputs": [
    {
     "name": "stdout",
     "output_type": "stream",
     "text": [
      "* Albania: Tirana, Shkodër, Durrës, Vlorë, Elbasan, Korçë\n",
      "* Greece: Komotini, Kavala, Athina, Peiraias, Peristeri, Acharnes, Patra, Kozani, Kerkyra, Ioannina, Thessaloniki, Iraklio, Chania, Ermoupoli, Rhodes, Tripoli, Lamia, Chalkida, Larissa, Volos, Mytilini, Karyes\n",
      "* Macedonia: Skopje, Kumanovo\n",
      "* Serbia: Beograd, Novi Sad, Niš\n",
      "* Montenegro: Podgorica\n",
      "* Kosovo: Prishtine\n",
      "* Andorra: Andorra la Vella\n"
     ]
    }
   ],
   "source": [
    "# print names of all countries and their cities\n",
    "for element in document_tree.iterfind('country'):\n",
    "    print '* ' + element.find('name').text + ':',\n",
    "    capitals_string = ''\n",
    "    for subelement in element.getiterator('city'):\n",
    "        capitals_string += subelement.find('name').text + ', '\n",
    "    print capitals_string[:-2]"
   ]
  },
  {
   "cell_type": "markdown",
   "metadata": {},
   "source": [
    "****\n",
    "## XML exercise\n",
    "\n",
    "Using data in 'data/mondial_database.xml', the examples above, and refering to https://docs.python.org/2.7/library/xml.etree.elementtree.html, find\n",
    "\n",
    "1. 10 countries with the lowest infant mortality rates\n",
    "2. 10 cities with the largest population\n",
    "3. 10 ethnic groups with the largest overall populations (sum of best/latest estimates over all countries)\n",
    "4. name and country of a) longest river, b) largest lake and c) airport at highest elevation"
   ]
  },
  {
   "cell_type": "code",
   "execution_count": 364,
   "metadata": {
    "collapsed": false
   },
   "outputs": [],
   "source": [
    "document = ET.parse( './data/mondial_database.xml' )"
   ]
  },
  {
   "cell_type": "code",
   "execution_count": 365,
   "metadata": {
    "collapsed": false
   },
   "outputs": [
    {
     "data": {
      "text/plain": [
       "'mondial'"
      ]
     },
     "execution_count": 365,
     "metadata": {},
     "output_type": "execute_result"
    }
   ],
   "source": [
    "root = document.getroot()\n",
    "root.tag"
   ]
  },
  {
   "cell_type": "code",
   "execution_count": 366,
   "metadata": {
    "collapsed": false
   },
   "outputs": [],
   "source": [
    "def find_cities(e):\n",
    "    for elem in e.findall('city'):\n",
    "        yield elem\n",
    "    for p in e.findall('province'):\n",
    "        for elem in p.findall('city'):\n",
    "            yield elem\n",
    "\n",
    "country_dict = {}\n",
    "city_dict = {}\n",
    "\n",
    "ethnic_list = []\n",
    "pop_list = []\n",
    "\n",
    "for country in root.iter('country'):\n",
    "    country_name = country.find('name').text\n",
    "    country_dict[country_name] = {}\n",
    "    country_dict[country_name]['name'] = country_name\n",
    "    country_dict[country_name]['car_code'] = country.attrib['car_code']\n",
    "    try:\n",
    "        country_dict[country_name]['infant_mortality'] = country.find('infant_mortality').text\n",
    "    except:\n",
    "        country_dict[country_name]['infant_mortality'] = np.nan\n",
    "    \n",
    "    country_dict[country_name]['area'] = country.attrib.get('area', np.nan)\n",
    "    country_dict[country_name]['capital'] = country.attrib.get('capital', np.nan)\n",
    "    \n",
    "    # Populate country information in enthnic_list\n",
    "    for elem in country.findall('ethnicgroup'):\n",
    "        ethn = {}\n",
    "        ethn_name = elem.text\n",
    "        ethn['name'] = ethn_name\n",
    "        ethn['country'] = country_name\n",
    "        ethn['percentage'] = elem.attrib['percentage']\n",
    "        ethnic_list.append(ethn)\n",
    "        \n",
    "    # Populate ethnic group information in city_dict\n",
    "    for elem in find_cities(country):\n",
    "        city = {}\n",
    "        city_name = elem.find('name').text\n",
    "        city['name'] = city_name\n",
    "        population_years = []\n",
    "        \n",
    "        for e in elem.findall('population'):\n",
    "            population_years.append(int(e.attrib['year']))\n",
    "            key = 'population_' + e.attrib['year']\n",
    "            city[key] = e.text\n",
    "        try:\n",
    "            latest_year = max(population_years)\n",
    "            latest_year_key = 'population_' + str(latest_year)\n",
    "            city['population_latest'] = city[latest_year_key]\n",
    "        except:\n",
    "            city['population_latest'] = np.nan\n",
    "        \n",
    "        city_dict[city_name] = city\n",
    "    \n",
    "    # Populate country information in pop_list\n",
    "    for elem in country.findall('population'):\n",
    "        pop = {}\n",
    "        pop['population'] = int(elem.text)\n",
    "        pop['est_type'] = elem.attrib.get('measured', np.nan)\n",
    "        pop['year'] = elem.attrib.get('year', np.nan)\n",
    "        pop['country'] = country_name\n",
    "        pop_list.append(pop)"
   ]
  },
  {
   "cell_type": "code",
   "execution_count": 367,
   "metadata": {
    "collapsed": false
   },
   "outputs": [
    {
     "data": {
      "text/plain": [
       "Western Sahara              145.82\n",
       "Afghanistan                 117.23\n",
       "Mali                        104.34\n",
       "Somalia                     100.14\n",
       "Central African Republic     92.86\n",
       "Guinea-Bissau                90.92\n",
       "Chad                         90.30\n",
       "Niger                        86.27\n",
       "Angola                       79.99\n",
       "Burkina Faso                 76.80\n",
       "Name: infant_mortality, dtype: float64"
      ]
     },
     "execution_count": 367,
     "metadata": {},
     "output_type": "execute_result"
    }
   ],
   "source": [
    "#  10 countries with the lowest infant mortality rates\n",
    "df = pd.DataFrame.from_dict(country_dict, orient='index')\n",
    "df.infant_mortality = df.infant_mortality.astype(float)\n",
    "df.sort_values(by='infant_mortality', ascending=False).head(10).infant_mortality"
   ]
  },
  {
   "cell_type": "code",
   "execution_count": 368,
   "metadata": {
    "collapsed": false
   },
   "outputs": [
    {
     "data": {
      "text/plain": [
       "Shanghai     22315474.0\n",
       "Istanbul     13710512.0\n",
       "Mumbai       12442373.0\n",
       "Moskva       11979529.0\n",
       "Beijing      11716620.0\n",
       "São Paulo    11152344.0\n",
       "Tianjin      11090314.0\n",
       "Guangzhou    11071424.0\n",
       "Delhi        11034555.0\n",
       "Shenzhen     10358381.0\n",
       "Name: population_latest, dtype: float64"
      ]
     },
     "execution_count": 368,
     "metadata": {},
     "output_type": "execute_result"
    }
   ],
   "source": [
    "# 10 cities with the largest population\n",
    "dfc = pd.DataFrame.from_dict(city_dict, orient='index')\n",
    "dfc.population_latest = dfc.population_latest.astype(float)\n",
    "dfc.sort_values(by='population_latest', ascending=False).head(10).population_latest"
   ]
  },
  {
   "cell_type": "code",
   "execution_count": 369,
   "metadata": {
    "collapsed": false
   },
   "outputs": [
    {
     "data": {
      "text/html": [
       "<div>\n",
       "<table border=\"1\" class=\"dataframe\">\n",
       "  <thead>\n",
       "    <tr style=\"text-align: right;\">\n",
       "      <th></th>\n",
       "      <th>country</th>\n",
       "      <th>est_type</th>\n",
       "      <th>population</th>\n",
       "      <th>year</th>\n",
       "    </tr>\n",
       "  </thead>\n",
       "  <tbody>\n",
       "    <tr>\n",
       "      <th>567</th>\n",
       "      <td>Afghanistan</td>\n",
       "      <td>census</td>\n",
       "      <td>13051358</td>\n",
       "      <td>1979</td>\n",
       "    </tr>\n",
       "    <tr>\n",
       "      <th>8</th>\n",
       "      <td>Albania</td>\n",
       "      <td>census</td>\n",
       "      <td>2800138</td>\n",
       "      <td>2011</td>\n",
       "    </tr>\n",
       "    <tr>\n",
       "      <th>1740</th>\n",
       "      <td>Algeria</td>\n",
       "      <td>census</td>\n",
       "      <td>34080030</td>\n",
       "      <td>2008</td>\n",
       "    </tr>\n",
       "    <tr>\n",
       "      <th>1389</th>\n",
       "      <td>American Samoa</td>\n",
       "      <td>census</td>\n",
       "      <td>55519</td>\n",
       "      <td>2010</td>\n",
       "    </tr>\n",
       "    <tr>\n",
       "      <th>60</th>\n",
       "      <td>Andorra</td>\n",
       "      <td>census</td>\n",
       "      <td>46166</td>\n",
       "      <td>1989</td>\n",
       "    </tr>\n",
       "  </tbody>\n",
       "</table>\n",
       "</div>"
      ],
      "text/plain": [
       "             country est_type  population  year\n",
       "567      Afghanistan   census    13051358  1979\n",
       "8            Albania   census     2800138  2011\n",
       "1740         Algeria   census    34080030  2008\n",
       "1389  American Samoa   census       55519  2010\n",
       "60           Andorra   census       46166  1989"
      ]
     },
     "execution_count": 369,
     "metadata": {},
     "output_type": "execute_result"
    }
   ],
   "source": [
    "dfp = pd.DataFrame(pop_list)\n",
    "dfp.head()\n",
    "df_census = dfp[dfp.est_type == 'census']\n",
    "df_best_pop = dfm.ix[df_census.groupby('country')['year'].idxmax(axis='year')]\n",
    "df_best_pop.head()"
   ]
  },
  {
   "cell_type": "code",
   "execution_count": 370,
   "metadata": {
    "collapsed": false,
    "scrolled": false
   },
   "outputs": [
    {
     "data": {
      "text/plain": [
       "name\n",
       "Han Chinese    1225848239\n",
       "Indo-Aryan      871815583\n",
       "European        473316258\n",
       "Dravidian       302713744\n",
       "African         288659758\n",
       "Bengali         146776916\n",
       "Mestizo         146528662\n",
       "Russian         129730224\n",
       "Japanese        127289007\n",
       "Malay           120907106\n",
       "Name: ethn_pop, dtype: int64"
      ]
     },
     "execution_count": 370,
     "metadata": {},
     "output_type": "execute_result"
    }
   ],
   "source": [
    "#  10 ethnic groups with the largest overall populations (sum of best/latest estimates over all countries)\n",
    "dfe = pd.DataFrame(ethnic_list)\n",
    "dfep = pd.merge(dfe, df_best_pop, on='country')\n",
    "dfep.percentage = dfep.percentage.astype(float)\n",
    "dfep['ethn_pop'] = ((dfep.percentage / 100.00) * dfep.population).astype(int)\n",
    "summed_ethn = dfep.groupby('name').sum()\n",
    "summed_ethn.ethn_pop.sort_values(ascending=False).head(10)"
   ]
  },
  {
   "cell_type": "code",
   "execution_count": 371,
   "metadata": {
    "collapsed": true
   },
   "outputs": [],
   "source": [
    "dfcc = pd.DataFrame.from_dict(country_dict, orient='index').reset_index().set_index('car_code')"
   ]
  },
  {
   "cell_type": "code",
   "execution_count": 372,
   "metadata": {
    "collapsed": false
   },
   "outputs": [
    {
     "data": {
      "text/html": [
       "<div>\n",
       "<table border=\"1\" class=\"dataframe\">\n",
       "  <thead>\n",
       "    <tr style=\"text-align: right;\">\n",
       "      <th></th>\n",
       "      <th>country_names</th>\n",
       "      <th>length</th>\n",
       "      <th>name</th>\n",
       "      <th>ccodes</th>\n",
       "    </tr>\n",
       "  </thead>\n",
       "  <tbody>\n",
       "    <tr>\n",
       "      <th>river-Amazonas</th>\n",
       "      <td>[Colombia, Brazil, Peru]</td>\n",
       "      <td>6448.0</td>\n",
       "      <td>Amazonas</td>\n",
       "      <td>CO BR PE</td>\n",
       "    </tr>\n",
       "    <tr>\n",
       "      <th>river-Jangtse</th>\n",
       "      <td>[China]</td>\n",
       "      <td>6380.0</td>\n",
       "      <td>Jangtse</td>\n",
       "      <td>CN</td>\n",
       "    </tr>\n",
       "    <tr>\n",
       "      <th>river-Hwangho</th>\n",
       "      <td>[China]</td>\n",
       "      <td>4845.0</td>\n",
       "      <td>Hwangho</td>\n",
       "      <td>CN</td>\n",
       "    </tr>\n",
       "    <tr>\n",
       "      <th>river-Lena</th>\n",
       "      <td>[Russia]</td>\n",
       "      <td>4400.0</td>\n",
       "      <td>Lena</td>\n",
       "      <td>R</td>\n",
       "    </tr>\n",
       "    <tr>\n",
       "      <th>river-Zaire</th>\n",
       "      <td>[Congo, Zaire]</td>\n",
       "      <td>4374.0</td>\n",
       "      <td>Zaire</td>\n",
       "      <td>RCB ZRE</td>\n",
       "    </tr>\n",
       "    <tr>\n",
       "      <th>river-Mekong</th>\n",
       "      <td>[China, Laos, Thailand, Cambodia, Vietnam]</td>\n",
       "      <td>4350.0</td>\n",
       "      <td>Mekong</td>\n",
       "      <td>CN LAO THA K VN</td>\n",
       "    </tr>\n",
       "    <tr>\n",
       "      <th>river-Irtysch</th>\n",
       "      <td>[Russia, Kazakhstan, China]</td>\n",
       "      <td>4248.0</td>\n",
       "      <td>Irtysch</td>\n",
       "      <td>R KAZ CN</td>\n",
       "    </tr>\n",
       "    <tr>\n",
       "      <th>river-Niger</th>\n",
       "      <td>[Mali, Niger, Nigeria, Guinea]</td>\n",
       "      <td>4184.0</td>\n",
       "      <td>Niger</td>\n",
       "      <td>RMM RN WAN RG</td>\n",
       "    </tr>\n",
       "    <tr>\n",
       "      <th>river-Missouri_River</th>\n",
       "      <td>[United States]</td>\n",
       "      <td>4130.0</td>\n",
       "      <td>Missouri</td>\n",
       "      <td>USA</td>\n",
       "    </tr>\n",
       "    <tr>\n",
       "      <th>river-Jenissej</th>\n",
       "      <td>[Russia]</td>\n",
       "      <td>4092.0</td>\n",
       "      <td>Jenissej</td>\n",
       "      <td>R</td>\n",
       "    </tr>\n",
       "  </tbody>\n",
       "</table>\n",
       "</div>"
      ],
      "text/plain": [
       "                                                   country_names  length  \\\n",
       "river-Amazonas                          [Colombia, Brazil, Peru]  6448.0   \n",
       "river-Jangtse                                            [China]  6380.0   \n",
       "river-Hwangho                                            [China]  4845.0   \n",
       "river-Lena                                              [Russia]  4400.0   \n",
       "river-Zaire                                       [Congo, Zaire]  4374.0   \n",
       "river-Mekong          [China, Laos, Thailand, Cambodia, Vietnam]  4350.0   \n",
       "river-Irtysch                        [Russia, Kazakhstan, China]  4248.0   \n",
       "river-Niger                       [Mali, Niger, Nigeria, Guinea]  4184.0   \n",
       "river-Missouri_River                             [United States]  4130.0   \n",
       "river-Jenissej                                          [Russia]  4092.0   \n",
       "\n",
       "                          name           ccodes  \n",
       "river-Amazonas        Amazonas         CO BR PE  \n",
       "river-Jangtse          Jangtse               CN  \n",
       "river-Hwangho          Hwangho               CN  \n",
       "river-Lena                Lena                R  \n",
       "river-Zaire              Zaire          RCB ZRE  \n",
       "river-Mekong            Mekong  CN LAO THA K VN  \n",
       "river-Irtysch          Irtysch         R KAZ CN  \n",
       "river-Niger              Niger    RMM RN WAN RG  \n",
       "river-Missouri_River  Missouri              USA  \n",
       "river-Jenissej        Jenissej                R  "
      ]
     },
     "execution_count": 372,
     "metadata": {},
     "output_type": "execute_result"
    }
   ],
   "source": [
    "# name and country of a) longest river\n",
    "river_dict = {}\n",
    "dfcc = pd.DataFrame.from_dict(country_dict, orient='index').reset_index().set_index('car_code')\n",
    "\n",
    "for riv in root.iter('river'):\n",
    "    river = {}\n",
    "    rid = riv.attrib['id']\n",
    "    river['name'] = riv.find('name').text\n",
    "    river['ccodes'] = riv.attrib['country']\n",
    "    \n",
    "    try:\n",
    "        river['length'] = riv.find('length').text\n",
    "    except:\n",
    "        river['length'] = np.nan\n",
    "        \n",
    "    \n",
    "    country_names = []\n",
    "    for cc in riv.attrib['country'].split(' '):\n",
    "        country_names.append(dfcc.loc[cc]['index'])\n",
    "    \n",
    "    river['country_names'] = country_names\n",
    "    river_dict[rid] = river\n",
    "    \n",
    "dfr = pd.DataFrame.from_dict(river_dict, orient='index')\n",
    "dfr.length = dfr.length.astype(float)\n",
    "dfr.sort_values(by='length', ascending=False).head(10)"
   ]
  },
  {
   "cell_type": "code",
   "execution_count": 375,
   "metadata": {
    "collapsed": false
   },
   "outputs": [
    {
     "data": {
      "text/html": [
       "<div>\n",
       "<table border=\"1\" class=\"dataframe\">\n",
       "  <thead>\n",
       "    <tr style=\"text-align: right;\">\n",
       "      <th></th>\n",
       "      <th>name</th>\n",
       "      <th>area</th>\n",
       "      <th>country_names</th>\n",
       "    </tr>\n",
       "  </thead>\n",
       "  <tbody>\n",
       "    <tr>\n",
       "      <th>lake-KaspischesMeer</th>\n",
       "      <td>Caspian Sea</td>\n",
       "      <td>386400.0</td>\n",
       "      <td>[Russia, Azerbaijan, Kazakhstan, Iran, Turkmen...</td>\n",
       "    </tr>\n",
       "    <tr>\n",
       "      <th>lake-Lake_Superior</th>\n",
       "      <td>Lake Superior</td>\n",
       "      <td>82103.0</td>\n",
       "      <td>[Canada, United States]</td>\n",
       "    </tr>\n",
       "    <tr>\n",
       "      <th>lake-Victoriasee</th>\n",
       "      <td>Lake Victoria</td>\n",
       "      <td>68870.0</td>\n",
       "      <td>[Tanzania, Kenya, Uganda]</td>\n",
       "    </tr>\n",
       "    <tr>\n",
       "      <th>lake-Lake_Huron</th>\n",
       "      <td>Lake Huron</td>\n",
       "      <td>59600.0</td>\n",
       "      <td>[Canada, United States]</td>\n",
       "    </tr>\n",
       "    <tr>\n",
       "      <th>lake-Lake_Michigan</th>\n",
       "      <td>Lake Michigan</td>\n",
       "      <td>57800.0</td>\n",
       "      <td>[United States]</td>\n",
       "    </tr>\n",
       "    <tr>\n",
       "      <th>lake-DeadSea</th>\n",
       "      <td>Dead Sea</td>\n",
       "      <td>41650.0</td>\n",
       "      <td>[Israel, Jordan, West Bank]</td>\n",
       "    </tr>\n",
       "    <tr>\n",
       "      <th>lake-Tanganjikasee</th>\n",
       "      <td>Lake Tanganjika</td>\n",
       "      <td>32893.0</td>\n",
       "      <td>[Zaire, Zambia, Burundi, Tanzania]</td>\n",
       "    </tr>\n",
       "    <tr>\n",
       "      <th>lake-Great_Bear_Lake</th>\n",
       "      <td>Great Bear Lake</td>\n",
       "      <td>31792.0</td>\n",
       "      <td>[Canada]</td>\n",
       "    </tr>\n",
       "    <tr>\n",
       "      <th>lake-Baikalsee</th>\n",
       "      <td>Ozero Baikal</td>\n",
       "      <td>31492.0</td>\n",
       "      <td>[Russia]</td>\n",
       "    </tr>\n",
       "    <tr>\n",
       "      <th>lake-Malawi</th>\n",
       "      <td>Lake Malawi</td>\n",
       "      <td>29600.0</td>\n",
       "      <td>[Malawi, Mozambique, Tanzania]</td>\n",
       "    </tr>\n",
       "  </tbody>\n",
       "</table>\n",
       "</div>"
      ],
      "text/plain": [
       "                                 name      area  \\\n",
       "lake-KaspischesMeer       Caspian Sea  386400.0   \n",
       "lake-Lake_Superior      Lake Superior   82103.0   \n",
       "lake-Victoriasee        Lake Victoria   68870.0   \n",
       "lake-Lake_Huron            Lake Huron   59600.0   \n",
       "lake-Lake_Michigan      Lake Michigan   57800.0   \n",
       "lake-DeadSea                 Dead Sea   41650.0   \n",
       "lake-Tanganjikasee    Lake Tanganjika   32893.0   \n",
       "lake-Great_Bear_Lake  Great Bear Lake   31792.0   \n",
       "lake-Baikalsee           Ozero Baikal   31492.0   \n",
       "lake-Malawi               Lake Malawi   29600.0   \n",
       "\n",
       "                                                          country_names  \n",
       "lake-KaspischesMeer   [Russia, Azerbaijan, Kazakhstan, Iran, Turkmen...  \n",
       "lake-Lake_Superior                              [Canada, United States]  \n",
       "lake-Victoriasee                              [Tanzania, Kenya, Uganda]  \n",
       "lake-Lake_Huron                                 [Canada, United States]  \n",
       "lake-Lake_Michigan                                      [United States]  \n",
       "lake-DeadSea                                [Israel, Jordan, West Bank]  \n",
       "lake-Tanganjikasee                   [Zaire, Zambia, Burundi, Tanzania]  \n",
       "lake-Great_Bear_Lake                                           [Canada]  \n",
       "lake-Baikalsee                                                 [Russia]  \n",
       "lake-Malawi                              [Malawi, Mozambique, Tanzania]  "
      ]
     },
     "execution_count": 375,
     "metadata": {},
     "output_type": "execute_result"
    }
   ],
   "source": [
    "# Name and Country of b) largest lake\n",
    "# TODO: Write a function to generate these dicts.\n",
    "\n",
    "lake_dict = {}\n",
    "for lk in root.iter('lake'):\n",
    "    lake = {}\n",
    "    lid = lk.attrib['id']\n",
    "    lake['name'] = lk.find('name').text\n",
    "    lake['ccodes'] = lk.attrib['country']\n",
    "    \n",
    "    try:\n",
    "        lake['area'] = float(lk.find('area').text)\n",
    "    except:\n",
    "        lake['area'] = np.nan\n",
    "        \n",
    "    \n",
    "    country_names = []\n",
    "    for cc in lk.attrib['country'].split(' '):\n",
    "        country_names.append(dfcc.loc[cc]['index'])\n",
    "    \n",
    "    lake['country_names'] = country_names\n",
    "    lake_dict[lid] = lake\n",
    "    \n",
    "dflk = pd.DataFrame.from_dict(lake_dict, orient='index')\n",
    "dflk.area = dflk.area.astype(float)\n",
    "dflk.sort_values(by='area', ascending=False).head(10)[['name', 'area', 'country_names']]"
   ]
  },
  {
   "cell_type": "code",
   "execution_count": 376,
   "metadata": {
    "collapsed": false
   },
   "outputs": [
    {
     "data": {
      "text/html": [
       "<div>\n",
       "<table border=\"1\" class=\"dataframe\">\n",
       "  <thead>\n",
       "    <tr style=\"text-align: right;\">\n",
       "      <th></th>\n",
       "      <th>name</th>\n",
       "      <th>elevation</th>\n",
       "      <th>country_names</th>\n",
       "    </tr>\n",
       "  </thead>\n",
       "  <tbody>\n",
       "    <tr>\n",
       "      <th>LPB</th>\n",
       "      <td>El Alto Intl</td>\n",
       "      <td>4063.0</td>\n",
       "      <td>[Bolivia]</td>\n",
       "    </tr>\n",
       "    <tr>\n",
       "      <th>LXA</th>\n",
       "      <td>Lhasa-Gonggar</td>\n",
       "      <td>4005.0</td>\n",
       "      <td>[China]</td>\n",
       "    </tr>\n",
       "    <tr>\n",
       "      <th>YUS</th>\n",
       "      <td>Yushu Batang</td>\n",
       "      <td>3963.0</td>\n",
       "      <td>[China]</td>\n",
       "    </tr>\n",
       "    <tr>\n",
       "      <th>JUL</th>\n",
       "      <td>Juliaca</td>\n",
       "      <td>3827.0</td>\n",
       "      <td>[Peru]</td>\n",
       "    </tr>\n",
       "    <tr>\n",
       "      <th>CUZ</th>\n",
       "      <td>Teniente Alejandro Velasco Astete Intl</td>\n",
       "      <td>3311.0</td>\n",
       "      <td>[Peru]</td>\n",
       "    </tr>\n",
       "    <tr>\n",
       "      <th>SRE</th>\n",
       "      <td>Juana Azurduy De Padilla</td>\n",
       "      <td>2905.0</td>\n",
       "      <td>[Bolivia]</td>\n",
       "    </tr>\n",
       "    <tr>\n",
       "      <th>UIO</th>\n",
       "      <td>Mariscal Sucre Intl</td>\n",
       "      <td>2813.0</td>\n",
       "      <td>[Ecuador]</td>\n",
       "    </tr>\n",
       "    <tr>\n",
       "      <th>AYP</th>\n",
       "      <td>Coronel Fap Alfredo Mendivil Duarte</td>\n",
       "      <td>2719.0</td>\n",
       "      <td>[Peru]</td>\n",
       "    </tr>\n",
       "    <tr>\n",
       "      <th>CJA</th>\n",
       "      <td>Mayor General FAP Armando Revoredo Iglesias Ai...</td>\n",
       "      <td>2677.0</td>\n",
       "      <td>[Peru]</td>\n",
       "    </tr>\n",
       "    <tr>\n",
       "      <th>TLC</th>\n",
       "      <td>Licenciado Adolfo Lopez Mateos Intl</td>\n",
       "      <td>2581.0</td>\n",
       "      <td>[Mexico]</td>\n",
       "    </tr>\n",
       "  </tbody>\n",
       "</table>\n",
       "</div>"
      ],
      "text/plain": [
       "                                                  name  elevation  \\\n",
       "LPB                                       El Alto Intl     4063.0   \n",
       "LXA                                      Lhasa-Gonggar     4005.0   \n",
       "YUS                                       Yushu Batang     3963.0   \n",
       "JUL                                            Juliaca     3827.0   \n",
       "CUZ             Teniente Alejandro Velasco Astete Intl     3311.0   \n",
       "SRE                           Juana Azurduy De Padilla     2905.0   \n",
       "UIO                                Mariscal Sucre Intl     2813.0   \n",
       "AYP                Coronel Fap Alfredo Mendivil Duarte     2719.0   \n",
       "CJA  Mayor General FAP Armando Revoredo Iglesias Ai...     2677.0   \n",
       "TLC                Licenciado Adolfo Lopez Mateos Intl     2581.0   \n",
       "\n",
       "    country_names  \n",
       "LPB     [Bolivia]  \n",
       "LXA       [China]  \n",
       "YUS       [China]  \n",
       "JUL        [Peru]  \n",
       "CUZ        [Peru]  \n",
       "SRE     [Bolivia]  \n",
       "UIO     [Ecuador]  \n",
       "AYP        [Peru]  \n",
       "CJA        [Peru]  \n",
       "TLC      [Mexico]  "
      ]
     },
     "execution_count": 376,
     "metadata": {},
     "output_type": "execute_result"
    }
   ],
   "source": [
    "# Name and Country of c) airport at highest elevation\n",
    "# TODO: Write a function to generate these dicts.\n",
    "\n",
    "air_dict = {}\n",
    "for ap in root.iter('airport'):\n",
    "    airport = {}\n",
    "    aid = ap.attrib['iatacode']\n",
    "    airport['name'] = ap.find('name').text\n",
    "    airport['ccodes'] = ap.attrib['country']\n",
    "    \n",
    "    try:\n",
    "        airport['elevation'] = float(ap.find('elevation').text)\n",
    "    except:\n",
    "        airport['elevation'] = np.nan\n",
    "        \n",
    "    \n",
    "    country_names = []\n",
    "    for cc in ap.attrib['country'].split(' '):\n",
    "        country_names.append(dfcc.loc[cc]['index'])\n",
    "    \n",
    "    airport['country_names'] = country_names\n",
    "    air_dict[aid] = airport\n",
    "\n",
    "dfair = pd.DataFrame.from_dict(air_dict, orient='index')\n",
    "dfair.area = dfair.elevation.astype(float)\n",
    "dfair.sort_values(by='elevation', ascending=False).head(10)[['name', 'elevation', 'country_names']]"
   ]
  }
 ],
 "metadata": {
  "kernelspec": {
   "display_name": "Python 2",
   "language": "python",
   "name": "python2"
  },
  "language_info": {
   "codemirror_mode": {
    "name": "ipython",
    "version": 2
   },
   "file_extension": ".py",
   "mimetype": "text/x-python",
   "name": "python",
   "nbconvert_exporter": "python",
   "pygments_lexer": "ipython2",
   "version": "2.7.11"
  }
 },
 "nbformat": 4,
 "nbformat_minor": 0
}
