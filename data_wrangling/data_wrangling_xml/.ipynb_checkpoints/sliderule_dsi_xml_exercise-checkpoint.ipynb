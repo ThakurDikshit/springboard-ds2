{
 "cells": [
  {
   "cell_type": "markdown",
   "metadata": {},
   "source": [
    "# XML example and exercise\n",
    "****\n",
    "+ study examples of accessing nodes in XML tree structure  \n",
    "+ work on exercise to be completed and submitted\n",
    "****\n",
    "+ reference: https://docs.python.org/2.7/library/xml.etree.elementtree.html\n",
    "+ data source: http://www.dbis.informatik.uni-goettingen.de/Mondial\n",
    "****"
   ]
  },
  {
   "cell_type": "code",
   "execution_count": 30,
   "metadata": {
    "collapsed": true
   },
   "outputs": [],
   "source": [
    "from xml.etree import ElementTree as ET\n",
    "import numpy as np\n",
    "import pandas as pd"
   ]
  },
  {
   "cell_type": "markdown",
   "metadata": {},
   "source": [
    "## XML example\n",
    "\n",
    "+ for details about tree traversal and iterators, see https://docs.python.org/2.7/library/xml.etree.elementtree.html"
   ]
  },
  {
   "cell_type": "code",
   "execution_count": 2,
   "metadata": {
    "collapsed": true
   },
   "outputs": [],
   "source": [
    "document_tree = ET.parse( './data/mondial_database_less.xml' )"
   ]
  },
  {
   "cell_type": "code",
   "execution_count": 3,
   "metadata": {
    "collapsed": false
   },
   "outputs": [
    {
     "name": "stdout",
     "output_type": "stream",
     "text": [
      "Albania\n",
      "Greece\n",
      "Macedonia\n",
      "Serbia\n",
      "Montenegro\n",
      "Kosovo\n",
      "Andorra\n"
     ]
    }
   ],
   "source": [
    "# print names of all countries\n",
    "for child in document_tree.getroot():\n",
    "    print child.find('name').text"
   ]
  },
  {
   "cell_type": "code",
   "execution_count": 4,
   "metadata": {
    "collapsed": false
   },
   "outputs": [
    {
     "name": "stdout",
     "output_type": "stream",
     "text": [
      "* Albania: Tirana, Shkodër, Durrës, Vlorë, Elbasan, Korçë\n",
      "* Greece: Komotini, Kavala, Athina, Peiraias, Peristeri, Acharnes, Patra, Kozani, Kerkyra, Ioannina, Thessaloniki, Iraklio, Chania, Ermoupoli, Rhodes, Tripoli, Lamia, Chalkida, Larissa, Volos, Mytilini, Karyes\n",
      "* Macedonia: Skopje, Kumanovo\n",
      "* Serbia: Beograd, Novi Sad, Niš\n",
      "* Montenegro: Podgorica\n",
      "* Kosovo: Prishtine\n",
      "* Andorra: Andorra la Vella\n"
     ]
    }
   ],
   "source": [
    "# print names of all countries and their cities\n",
    "for element in document_tree.iterfind('country'):\n",
    "    print '* ' + element.find('name').text + ':',\n",
    "    capitals_string = ''\n",
    "    for subelement in element.getiterator('city'):\n",
    "        capitals_string += subelement.find('name').text + ', '\n",
    "    print capitals_string[:-2]"
   ]
  },
  {
   "cell_type": "markdown",
   "metadata": {},
   "source": [
    "****\n",
    "## XML exercise\n",
    "\n",
    "Using data in 'data/mondial_database.xml', the examples above, and refering to https://docs.python.org/2.7/library/xml.etree.elementtree.html, find\n",
    "\n",
    "1. 10 countries with the lowest infant mortality rates\n",
    "2. 10 cities with the largest population\n",
    "3. 10 ethnic groups with the largest overall populations (sum of best/latest estimates over all countries)\n",
    "4. name and country of a) longest river, b) largest lake and c) airport at highest elevation"
   ]
  },
  {
   "cell_type": "code",
   "execution_count": 7,
   "metadata": {
    "collapsed": false
   },
   "outputs": [],
   "source": [
    "document = ET.parse( './data/mondial_database.xml' )"
   ]
  },
  {
   "cell_type": "code",
   "execution_count": 60,
   "metadata": {
    "collapsed": false
   },
   "outputs": [
    {
     "data": {
      "text/plain": [
       "'mondial'"
      ]
     },
     "execution_count": 60,
     "metadata": {},
     "output_type": "execute_result"
    }
   ],
   "source": [
    "root = document.getroot()\n",
    "root.tag"
   ]
  },
  {
   "cell_type": "code",
   "execution_count": 152,
   "metadata": {
    "collapsed": false
   },
   "outputs": [],
   "source": [
    "def find_cities(e):\n",
    "    for elem in e.findall('city'):\n",
    "        yield elem\n",
    "    for p in e.findall('province'):\n",
    "        for elem in p.findall('city'):\n",
    "            yield elem\n",
    "\n",
    "country_dict = {}\n",
    "city_dict = {}\n",
    "ethnic_list = {}\n",
    "\n",
    "for country in root.iter('country'):\n",
    "    country_name = country.find('name').text\n",
    "    country_dict[country_name] = {}\n",
    "    country_dict[country_name]['name'] = country_name\n",
    "    try:\n",
    "        country_dict[country_name]['infant_mortality'] = country.find('infant_mortality').text\n",
    "    except:\n",
    "        country_dict[country_name]['infant_mortality'] = np.nan\n",
    "    \n",
    "    country_dict[country_name]['area'] = country.attrib.get('area', np.nan)\n",
    "    country_dict[country_name]['capital'] = country.attrib.get('capital', np.nan)\n",
    "    \n",
    "    # Populate country information in country_dict\n",
    "    for elem in country.findall('ethnicgroup'):\n",
    "        ethn = {}\n",
    "        ethn_name = elem.text\n",
    "        ethn['name'] = ethn_name\n",
    "        ethn['percentage'] = elem.attrib['percentage']\n",
    "        ethnic_dict[ethn_name] = ethn\n",
    "        ethnic_dict[country_name]\n",
    "        \n",
    "    # Populate ethnic group information in ethn_dict\n",
    "    for elem in find_cities(country):\n",
    "        city = {}\n",
    "        city_name = elem.find('name').text\n",
    "        city['name'] = city_name\n",
    "        population_years = []\n",
    "        \n",
    "        for e in elem.findall('population'):\n",
    "            population_years.append(int(e.attrib['year']))\n",
    "            key = 'population_' + e.attrib['year']\n",
    "            city[key] = e.text\n",
    "        try:\n",
    "            latest_year = max(population_years)\n",
    "            latest_year_key = 'population_' + str(latest_year)\n",
    "            city['population_latest'] = city[latest_year_key]\n",
    "        except:\n",
    "            city['population_latest'] = np.nan\n",
    "        \n",
    "        city_dict[city_name] = city"
   ]
  },
  {
   "cell_type": "code",
   "execution_count": 153,
   "metadata": {
    "collapsed": false
   },
   "outputs": [
    {
     "name": "stderr",
     "output_type": "stream",
     "text": [
      "/Users/rtindru/anaconda/lib/python2.7/site-packages/ipykernel/__main__.py:4: FutureWarning: sort(columns=....) is deprecated, use sort_values(by=.....)\n"
     ]
    },
    {
     "data": {
      "text/plain": [
       "Western Sahara              145.82\n",
       "Afghanistan                 117.23\n",
       "Mali                        104.34\n",
       "Somalia                     100.14\n",
       "Central African Republic     92.86\n",
       "Guinea-Bissau                90.92\n",
       "Chad                         90.30\n",
       "Niger                        86.27\n",
       "Angola                       79.99\n",
       "Burkina Faso                 76.80\n",
       "Name: infant_mortality, dtype: float64"
      ]
     },
     "execution_count": 153,
     "metadata": {},
     "output_type": "execute_result"
    }
   ],
   "source": [
    "#  10 countries with the lowest infant mortality rates\n",
    "df = pd.DataFrame.from_dict(country_dict, orient='index')\n",
    "df.infant_mortality = df.infant_mortality.astype(float)\n",
    "df.sort('infant_mortality', ascending=False).head(10).infant_mortality"
   ]
  },
  {
   "cell_type": "code",
   "execution_count": 154,
   "metadata": {
    "collapsed": false
   },
   "outputs": [
    {
     "name": "stderr",
     "output_type": "stream",
     "text": [
      "/Users/rtindru/anaconda/lib/python2.7/site-packages/ipykernel/__main__.py:4: FutureWarning: sort(columns=....) is deprecated, use sort_values(by=.....)\n"
     ]
    },
    {
     "data": {
      "text/plain": [
       "Shanghai     22315474.0\n",
       "Istanbul     13710512.0\n",
       "Mumbai       12442373.0\n",
       "Moskva       11979529.0\n",
       "Beijing      11716620.0\n",
       "São Paulo    11152344.0\n",
       "Tianjin      11090314.0\n",
       "Guangzhou    11071424.0\n",
       "Delhi        11034555.0\n",
       "Shenzhen     10358381.0\n",
       "Name: population_latest, dtype: float64"
      ]
     },
     "execution_count": 154,
     "metadata": {},
     "output_type": "execute_result"
    }
   ],
   "source": [
    "# 10 cities with the largest population\n",
    "dfc = pd.DataFrame.from_dict(city_dict, orient='index')\n",
    "dfc.population_latest = dfc.population_latest.astype(float)\n",
    "dfc.sort('population_latest', ascending=False).head(10).population_latest"
   ]
  },
  {
   "cell_type": "code",
   "execution_count": 156,
   "metadata": {
    "collapsed": false
   },
   "outputs": [
    {
     "data": {
      "text/html": [
       "<div>\n",
       "<table border=\"1\" class=\"dataframe\">\n",
       "  <thead>\n",
       "    <tr style=\"text-align: right;\">\n",
       "      <th></th>\n",
       "      <th>percentage</th>\n",
       "      <th>name</th>\n",
       "    </tr>\n",
       "  </thead>\n",
       "  <tbody>\n",
       "    <tr>\n",
       "      <th>Acholi</th>\n",
       "      <td>4</td>\n",
       "      <td>Acholi</td>\n",
       "    </tr>\n",
       "    <tr>\n",
       "      <th>Afar</th>\n",
       "      <td>1.7</td>\n",
       "      <td>Afar</td>\n",
       "    </tr>\n",
       "    <tr>\n",
       "      <th>African</th>\n",
       "      <td>97</td>\n",
       "      <td>African</td>\n",
       "    </tr>\n",
       "    <tr>\n",
       "      <th>African descent</th>\n",
       "      <td>50</td>\n",
       "      <td>African descent</td>\n",
       "    </tr>\n",
       "    <tr>\n",
       "      <th>African-white-Indian</th>\n",
       "      <td>90</td>\n",
       "      <td>African-white-Indian</td>\n",
       "    </tr>\n",
       "  </tbody>\n",
       "</table>\n",
       "</div>"
      ],
      "text/plain": [
       "                     percentage                  name\n",
       "Acholi                        4                Acholi\n",
       "Afar                        1.7                  Afar\n",
       "African                      97               African\n",
       "African descent              50       African descent\n",
       "African-white-Indian         90  African-white-Indian"
      ]
     },
     "execution_count": 156,
     "metadata": {},
     "output_type": "execute_result"
    }
   ],
   "source": [
    "#  10 ethnic groups with the largest overall populations (sum of best/latest estimates over all countries)\n",
    "dfe = pd.DataFrame.from_dict(ethnic_dict, orient='index')\n",
    "dfe.head()"
   ]
  },
  {
   "cell_type": "code",
   "execution_count": null,
   "metadata": {
    "collapsed": true
   },
   "outputs": [],
   "source": []
  }
 ],
 "metadata": {
  "kernelspec": {
   "display_name": "Python 2",
   "language": "python",
   "name": "python2"
  },
  "language_info": {
   "codemirror_mode": {
    "name": "ipython",
    "version": 2
   },
   "file_extension": ".py",
   "mimetype": "text/x-python",
   "name": "python",
   "nbconvert_exporter": "python",
   "pygments_lexer": "ipython2",
   "version": "2.7.11"
  }
 },
 "nbformat": 4,
 "nbformat_minor": 0
}
