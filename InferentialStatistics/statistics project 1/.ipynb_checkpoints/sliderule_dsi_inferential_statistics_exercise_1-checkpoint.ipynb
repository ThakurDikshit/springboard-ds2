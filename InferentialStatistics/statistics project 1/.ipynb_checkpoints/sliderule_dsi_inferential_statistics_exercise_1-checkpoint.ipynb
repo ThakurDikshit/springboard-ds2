{
 "cells": [
  {
   "cell_type": "markdown",
   "metadata": {},
   "source": [
    "## What is the true normal human body temperature? \n",
    "\n",
    "#### Background\n",
    "\n",
    "The mean normal body temperature was held to be 37$^{\\circ}$C or 98.6$^{\\circ}$F for more than 120 years since it was first conceptualized and reported by Carl Wunderlich in a famous 1868 book. In 1992, this value was revised to 36.8$^{\\circ}$C or 98.2$^{\\circ}$F. \n",
    "\n",
    "#### Exercise\n",
    "In this exercise, you will analyze a dataset of human body temperatures and employ the concepts of hypothesis testing, confidence intervals, and statistical significance.\n",
    "\n",
    "Answer the following questions **in this notebook below and submit to your Github account**. \n",
    "\n",
    "1.  Is the distribution of body temperatures normal? \n",
    "    - Remember that this is a condition for the CLT, and hence the statistical tests we are using, to apply. \n",
    "2.  Is the true population mean really 98.6 degrees F?\n",
    "    - Bring out the one sample hypothesis test! In this situation, is it approriate to apply a z-test or a t-test? How will the result be different?\n",
    "3.  At what temperature should we consider someone's temperature to be \"abnormal\"?\n",
    "    - Start by computing the margin of error and confidence interval.\n",
    "4.  Is there a significant difference between males and females in normal temperature?\n",
    "    - Set up and solve for a two sample hypothesis testing.\n",
    "\n",
    "You can include written notes in notebook cells using Markdown: \n",
    "   - In the control panel at the top, choose Cell > Cell Type > Markdown\n",
    "   - Markdown syntax: http://nestacms.com/docs/creating-content/markdown-cheat-sheet\n",
    "\n",
    "#### Resources\n",
    "\n",
    "+ Information and data sources: http://www.amstat.org/publications/jse/datasets/normtemp.txt, http://www.amstat.org/publications/jse/jse_data_archive.htm\n",
    "+ Markdown syntax: http://nestacms.com/docs/creating-content/markdown-cheat-sheet\n",
    "\n",
    "****"
   ]
  },
  {
   "cell_type": "code",
   "execution_count": 131,
   "metadata": {
    "collapsed": true
   },
   "outputs": [],
   "source": [
    "import pandas as pd\n",
    "import seaborn as sns\n",
    "import numpy as np\n",
    "import math\n",
    "%matplotlib inline"
   ]
  },
  {
   "cell_type": "code",
   "execution_count": 2,
   "metadata": {
    "collapsed": false
   },
   "outputs": [],
   "source": [
    "df = pd.read_csv('data/human_body_temperature.csv')"
   ]
  },
  {
   "cell_type": "code",
   "execution_count": 3,
   "metadata": {
    "collapsed": false
   },
   "outputs": [
    {
     "data": {
      "text/html": [
       "<div>\n",
       "<table border=\"1\" class=\"dataframe\">\n",
       "  <thead>\n",
       "    <tr style=\"text-align: right;\">\n",
       "      <th></th>\n",
       "      <th>temperature</th>\n",
       "      <th>gender</th>\n",
       "      <th>heart_rate</th>\n",
       "    </tr>\n",
       "  </thead>\n",
       "  <tbody>\n",
       "    <tr>\n",
       "      <th>0</th>\n",
       "      <td>99.3</td>\n",
       "      <td>F</td>\n",
       "      <td>68.0</td>\n",
       "    </tr>\n",
       "    <tr>\n",
       "      <th>1</th>\n",
       "      <td>98.4</td>\n",
       "      <td>F</td>\n",
       "      <td>81.0</td>\n",
       "    </tr>\n",
       "    <tr>\n",
       "      <th>2</th>\n",
       "      <td>97.8</td>\n",
       "      <td>M</td>\n",
       "      <td>73.0</td>\n",
       "    </tr>\n",
       "    <tr>\n",
       "      <th>3</th>\n",
       "      <td>99.2</td>\n",
       "      <td>F</td>\n",
       "      <td>66.0</td>\n",
       "    </tr>\n",
       "    <tr>\n",
       "      <th>4</th>\n",
       "      <td>98.0</td>\n",
       "      <td>F</td>\n",
       "      <td>73.0</td>\n",
       "    </tr>\n",
       "  </tbody>\n",
       "</table>\n",
       "</div>"
      ],
      "text/plain": [
       "   temperature gender  heart_rate\n",
       "0         99.3      F        68.0\n",
       "1         98.4      F        81.0\n",
       "2         97.8      M        73.0\n",
       "3         99.2      F        66.0\n",
       "4         98.0      F        73.0"
      ]
     },
     "execution_count": 3,
     "metadata": {},
     "output_type": "execute_result"
    }
   ],
   "source": [
    "df.head()"
   ]
  },
  {
   "cell_type": "markdown",
   "metadata": {},
   "source": [
    "## 1. Is the distribution of body temperatures normal?"
   ]
  },
  {
   "cell_type": "markdown",
   "metadata": {},
   "source": [
    "### Normality Test - Graphical Method\n",
    "A histogram of the temperature values will allow use to answer this question. If the distribution is normal, we would see a curve similar to a normal curve."
   ]
  },
  {
   "cell_type": "code",
   "execution_count": 56,
   "metadata": {
    "collapsed": false
   },
   "outputs": [
    {
     "data": {
      "text/plain": [
       "<matplotlib.axes._subplots.AxesSubplot at 0x11e4bb350>"
      ]
     },
     "execution_count": 56,
     "metadata": {},
     "output_type": "execute_result"
    },
    {
     "data": {
      "image/png": "[encoded data removed]",
      "text/plain": [
       "<matplotlib.figure.Figure at 0x11e597cd0>"
      ]
     },
     "metadata": {},
     "output_type": "display_data"
    }
   ],
   "source": [
    "# Normal Curve\n",
    "normal_dist = np.random.normal(size=130)\n",
    "sns.distplot(normal_dist)"
   ]
  },
  {
   "cell_type": "code",
   "execution_count": 58,
   "metadata": {
    "collapsed": false
   },
   "outputs": [
    {
     "data": {
      "text/plain": [
       "<matplotlib.axes._subplots.AxesSubplot at 0x11e7de7d0>"
      ]
     },
     "execution_count": 58,
     "metadata": {},
     "output_type": "execute_result"
    },
    {
     "data": {
      "image/png": "[encoded data removed]",
      "text/plain": [
       "<matplotlib.figure.Figure at 0x11e640d50>"
      ]
     },
     "metadata": {},
     "output_type": "display_data"
    }
   ],
   "source": [
    "# Temperature Distribution Curve\n",
    "temp_dist = df['temperature'].sort_values()\n",
    "sns.distplot(temp_dist)"
   ]
  },
  {
   "cell_type": "markdown",
   "metadata": {},
   "source": [
    "We can see that the temperature distribution curve is similar to our normal curve. \n",
    "\n",
    "### Conclusion: The temperatures are indeed normally distributed"
   ]
  },
  {
   "cell_type": "markdown",
   "metadata": {},
   "source": [
    "## 2. Is the true population mean really 98.6 degrees F?"
   ]
  },
  {
   "cell_type": "markdown",
   "metadata": {},
   "source": [
    "Let's calculate the sample mean first:"
   ]
  },
  {
   "cell_type": "code",
   "execution_count": 83,
   "metadata": {
    "collapsed": false
   },
   "outputs": [
    {
     "name": "stdout",
     "output_type": "stream",
     "text": [
      "Sample Mean: 98.2492307692, Sample STD: 0.733183158039\n"
     ]
    }
   ],
   "source": [
    "sample_mean = temp_dist.mean()\n",
    "sample_std = temp_dist.std()\n",
    "print 'Sample Mean: {}, Sample STD: {}'.format(sample_mean, sample_std)"
   ]
  },
  {
   "cell_type": "markdown",
   "metadata": {},
   "source": [
    "### H0: The population mean is indeed 98.6 degree Fahrenheit\n",
    "### H1: The population mean is NOT 98.6 degree Fahrenheit"
   ]
  },
  {
   "cell_type": "markdown",
   "metadata": {
    "collapsed": true
   },
   "source": [
    "We will now check if 98.2 degree F is within a 95% confidence interval of our assumed population mean of 98.6. If this is the case, then will reject the null hypothesis. First, we need to determine the standard deviation of the population. We can estimate this using the variance of the sampling distribution as follows:"
   ]
  },
  {
   "cell_type": "code",
   "execution_count": 121,
   "metadata": {
    "collapsed": false
   },
   "outputs": [
    {
     "name": "stdout",
     "output_type": "stream",
     "text": [
      "Population Mean: 98.6, Population STD: 0.0643044168379\n"
     ]
    }
   ],
   "source": [
    "pop_mean = 98.6\n",
    "pop_std = math.sqrt((sample_std**2)/len(temp_dist))\n",
    "print 'Population Mean: {}, Population STD: {}'.format(pop_mean, pop_std)"
   ]
  },
  {
   "cell_type": "markdown",
   "metadata": {},
   "source": [
    "Now, let's build a 95% confidence interval around our population mean. Assuming that the population is normally distributed, we can look-up on the two-tailed Z-table for a 95% interval (47.5 for positive side): The corresponding Z-score for a 95% confidence interval is 1.96.\n",
    "#### The 95% interval around our mean will be 1.96 standard deviations on either side of the mean."
   ]
  },
  {
   "cell_type": "code",
   "execution_count": 122,
   "metadata": {
    "collapsed": false
   },
   "outputs": [
    {
     "name": "stdout",
     "output_type": "stream",
     "text": [
      "Confidence Interval: (98.47396334299773, 98.72603665700225)\n"
     ]
    }
   ],
   "source": [
    "z_score = 1.96\n",
    "conf_interval = (pop_mean - z_score*pop_std, pop_mean + z_score*pop_std)\n",
    "print 'Confidence Interval: {}'.format(conf_interval)"
   ]
  },
  {
   "cell_type": "markdown",
   "metadata": {},
   "source": [
    "Our sample mean of 98.2 lies well beyond the confidence interval. Therefore we REJECT the Null hypothesis. The population mean is NOT 98.6 degree fahrenheit."
   ]
  },
  {
   "cell_type": "markdown",
   "metadata": {},
   "source": [
    "### Conclusion Z-test: H0 Rejected. Population Mean is NOT 98.6 degree Fahrenheit"
   ]
  },
  {
   "cell_type": "markdown",
   "metadata": {},
   "source": [
    "### What if we used a T-Test instead of a Z-Test"
   ]
  },
  {
   "cell_type": "markdown",
   "metadata": {},
   "source": [
    "Let's build a similar 95% confidence interval using the T-Table. We will assume 120 degrees of freedom. The T-score from the T-table for a 95% two-sided confidence interval is 1.980."
   ]
  },
  {
   "cell_type": "code",
   "execution_count": 218,
   "metadata": {
    "collapsed": false
   },
   "outputs": [
    {
     "name": "stdout",
     "output_type": "stream",
     "text": [
      "Confidence Interval: (98.07267725466097, 98.32732274533903)\n"
     ]
    }
   ],
   "source": [
    "t_score = 1.98\n",
    "conf_interval = (pop_mean - t_score*pop_std, pop_mean + t_score*pop_std)\n",
    "print 'Confidence Interval: {}'.format(conf_interval)"
   ]
  },
  {
   "cell_type": "markdown",
   "metadata": {},
   "source": [
    "Our confidence interval has marginally expanded as a result of the T-Test. However, our sample mean of 98.2 still lies well beyond the confidence interval. Therefore we reject the Null hypothesis. The population mean is NOT 98.6 degree fahrenheit."
   ]
  },
  {
   "cell_type": "markdown",
   "metadata": {},
   "source": [
    "### Conclusion T-test: H0 Rejected. Population Mean is NOT 98.6 degree Fahrenheit"
   ]
  },
  {
   "cell_type": "markdown",
   "metadata": {},
   "source": [
    "## 3. At what temperature should we consider someone's temperature to be \"abnormal\"?"
   ]
  },
  {
   "cell_type": "markdown",
   "metadata": {},
   "source": [
    "We can answer this question by building a 95% confidence interval around the population mean. We know that the population mean is 98.2 degree fahrenheit. We have already estimated that the population standard deviation is 0.0643044168379. Also, we know that a 95% confidence interval is 1.96 standard deviations from the mean. Putting it all together, we can build our confidence interval. Any temperature that lies outside this interval can be considered as abnormal\n"
   ]
  },
  {
   "cell_type": "code",
   "execution_count": 219,
   "metadata": {
    "collapsed": false
   },
   "outputs": [
    {
     "name": "stdout",
     "output_type": "stream",
     "text": [
      "Confidence Interval: (98.07396334299774, 98.32603665700226)\n"
     ]
    }
   ],
   "source": [
    "z_score = 1.96\n",
    "pop_mean = 98.2\n",
    "pop_conf_interval = (pop_mean - z_score*pop_std, pop_mean + z_score*pop_std)\n",
    "print 'Confidence Interval: {}'.format(pop_conf_interval)"
   ]
  },
  {
   "cell_type": "markdown",
   "metadata": {},
   "source": [
    "### Conclusion: Temperatures outside the range: (98.1, 98.3) can be considered abnormal"
   ]
  },
  {
   "cell_type": "markdown",
   "metadata": {},
   "source": [
    "## 4. Is there a significant difference between males and females in normal temperature?"
   ]
  },
  {
   "cell_type": "markdown",
   "metadata": {},
   "source": [
    "Let us use the \"Mean\" as our Test Statistic."
   ]
  },
  {
   "cell_type": "code",
   "execution_count": 220,
   "metadata": {
    "collapsed": false
   },
   "outputs": [],
   "source": [
    "temp_male = df[df.gender == 'M'].temperature\n",
    "temp_female = df[df.gender == 'F'].temperature"
   ]
  },
  {
   "cell_type": "code",
   "execution_count": 221,
   "metadata": {
    "collapsed": false
   },
   "outputs": [],
   "source": [
    "def compute_test_stat(group1, group2):\n",
    "    test_stat = abs(group1.mean() - group2.mean())\n",
    "    return test_stat\n",
    "\n",
    "# Draw random samples from the groups and compute the sample_stat\n",
    "def random_samples(group1, group2):\n",
    "    n, m = len(group1), len(group2)\n",
    "    pool = np.hstack((group1, group2))\n",
    "    np.random.shuffle(pool)\n",
    "    data = pool[:n], pool[n:]\n",
    "    return data"
   ]
  },
  {
   "cell_type": "code",
   "execution_count": 222,
   "metadata": {
    "collapsed": false
   },
   "outputs": [
    {
     "name": "stdout",
     "output_type": "stream",
     "text": [
      "Sample Statistic: M Vs F: 0.289230769231\n",
      "Sample Statistic: Random: 0.0184615384615\n"
     ]
    }
   ],
   "source": [
    "real_mean_diff = compute_test_stat(temp_male, temp_female)\n",
    "print 'Sample Statistic: M Vs F: {}'.format(real_mean_diff)\n",
    "rand_a, rand_b = random_samples(temp_male, temp_female)\n",
    "sample_mean_diff = compute_test_stat(rand_a, rand_b)\n",
    "print 'Sample Statistic: Random: {}'.format(sample_mean_diff)"
   ]
  },
  {
   "cell_type": "markdown",
   "metadata": {},
   "source": [
    "Now let's run this a whole bunch of times and determine the probability of getting a `sample_mean_diff` that's greater than or equal to the `real_mean_diff` between Men and Women. "
   ]
  },
  {
   "cell_type": "code",
   "execution_count": 223,
   "metadata": {
    "collapsed": false
   },
   "outputs": [],
   "source": [
    "def run_simulation(iters=1000):\n",
    "    \"\"\"\n",
    "    Runs the sampling a whole bunch of times and calculates the Test Statistic\n",
    "    \"\"\"\n",
    "    res = []\n",
    "    for i in xrange(iters):\n",
    "        rand_a, rand_b = random_samples(temp_male, temp_female)\n",
    "        sample_mean_diff = compute_test_stat(rand_a, rand_b)\n",
    "        res.append(sample_mean_diff)\n",
    "    return res\n",
    "\n",
    "def compute_pvalue(actual_stat, sample_stats):\n",
    "    \"\"\"\n",
    "    Computes a P-value given a list of sample statistics and the actual statistic\n",
    "    \"\"\"\n",
    "    return sum([1 for x in sample_stats if x >= actual_stat])/float(len(sample_stats))"
   ]
  },
  {
   "cell_type": "code",
   "execution_count": 224,
   "metadata": {
    "collapsed": false
   },
   "outputs": [
    {
     "name": "stdout",
     "output_type": "stream",
     "text": [
      "0.0244\n"
     ]
    }
   ],
   "source": [
    "real_mean_diff = compute_test_stat(temp_male, temp_female)\n",
    "sample_means = run_simulation(iters=10000)\n",
    "p_val = compute_pvalue(real_mean_diff, sample_means)\n",
    "print p_val"
   ]
  },
  {
   "cell_type": "markdown",
   "metadata": {},
   "source": [
    "In this case the result is about 2.5%, which means that if there is no difference between the groups, it is improbable that we could see a sample difference as big as 0.28 degrees"
   ]
  },
  {
   "cell_type": "markdown",
   "metadata": {},
   "source": [
    "### Conclusion: There is a statistically significant difference between the temperatures of Men and Women"
   ]
  }
 ],
 "metadata": {
  "kernelspec": {
   "display_name": "Python 2",
   "language": "python",
   "name": "python2"
  },
  "language_info": {
   "codemirror_mode": {
    "name": "ipython",
    "version": 2
   },
   "file_extension": ".py",
   "mimetype": "text/x-python",
   "name": "python",
   "nbconvert_exporter": "python",
   "pygments_lexer": "ipython2",
   "version": "2.7.11"
  }
 },
 "nbformat": 4,
 "nbformat_minor": 0
}
